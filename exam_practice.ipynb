{
 "cells": [
  {
   "cell_type": "markdown",
   "id": "225be5b2",
   "metadata": {},
   "source": [
    "# Задание 1"
   ]
  },
  {
   "cell_type": "code",
   "execution_count": 1,
   "id": "06ed5e28",
   "metadata": {},
   "outputs": [],
   "source": [
    "from pymorphy2 import MorphAnalyzer"
   ]
  },
  {
   "cell_type": "code",
   "execution_count": 2,
   "id": "266e4f71",
   "metadata": {},
   "outputs": [],
   "source": [
    "morph = MorphAnalyzer()"
   ]
  },
  {
   "cell_type": "code",
   "execution_count": 3,
   "id": "654fc9df",
   "metadata": {},
   "outputs": [],
   "source": [
    "text = \"Зонды будут запущены в космос в 2029 году и отправятся ко второй точке Лагранжа в системе Солнце\""
   ]
  },
  {
   "cell_type": "code",
   "execution_count": 4,
   "id": "7f3e7698",
   "metadata": {},
   "outputs": [],
   "source": [
    "from razdel import tokenize as razdel_tokenize\n",
    "from string import punctuation\n",
    "from nltk.corpus import stopwords\n",
    "\n",
    "punct = punctuation+'«»—…“”*№–'\n",
    "stops = set(stopwords.words('russian'))\n",
    "\n",
    "def normalize(text):\n",
    "    \n",
    "    words = [token.text.strip(punct) for token in list(razdel_tokenize(text))]\n",
    "    return words"
   ]
  },
  {
   "cell_type": "code",
   "execution_count": 5,
   "id": "f2f96d06",
   "metadata": {},
   "outputs": [],
   "source": [
    "text = normalize(text)"
   ]
  },
  {
   "cell_type": "code",
   "execution_count": 6,
   "id": "ab90df5b",
   "metadata": {},
   "outputs": [],
   "source": [
    "preds = []\n",
    "for word in text:\n",
    "    pred = str(morph.parse(word)[0].tag).split(',')[0].split(' ')[0]\n",
    "    preds.append(pred)"
   ]
  },
  {
   "cell_type": "code",
   "execution_count": 7,
   "id": "a4b7396d",
   "metadata": {},
   "outputs": [
    {
     "data": {
      "text/plain": [
       "['NOUN',\n",
       " 'VERB',\n",
       " 'PRTS',\n",
       " 'PREP',\n",
       " 'NOUN',\n",
       " 'PREP',\n",
       " 'NUMB',\n",
       " 'NOUN',\n",
       " 'CONJ',\n",
       " 'VERB',\n",
       " 'PREP',\n",
       " 'ADJF',\n",
       " 'NOUN',\n",
       " 'NOUN',\n",
       " 'PREP',\n",
       " 'NOUN',\n",
       " 'NOUN']"
      ]
     },
     "execution_count": 7,
     "metadata": {},
     "output_type": "execute_result"
    }
   ],
   "source": [
    "preds"
   ]
  },
  {
   "cell_type": "markdown",
   "id": "1e1c1077",
   "metadata": {},
   "source": [
    "# Задание 2"
   ]
  },
  {
   "cell_type": "code",
   "execution_count": 8,
   "id": "1208d76e",
   "metadata": {},
   "outputs": [],
   "source": [
    "import requests\n",
    "r = requests.get(\n",
    "    'https://raw.githubusercontent.com/mannefedov/compling_nlp_hse_course/master/data/anna_karenina.txt'\n",
    ")\n",
    "\n",
    "# работайте с этими предложениями\n",
    "sentences = r.text.split('\\n')\n",
    "sentences = [sent for sent in sentences if len(sent) > 10]"
   ]
  },
  {
   "cell_type": "code",
   "execution_count": 15,
   "id": "76f59563",
   "metadata": {},
   "outputs": [
    {
     "name": "stderr",
     "output_type": "stream",
     "text": [
      "c:\\users\\tanbe\\appdata\\local\\programs\\python\\python38\\lib\\site-packages\\sklearn\\utils\\deprecation.py:87: FutureWarning: Function get_feature_names is deprecated; get_feature_names is deprecated in 1.0 and will be removed in 1.2. Please use get_feature_names_out instead.\n",
      "  warnings.warn(msg, category=FutureWarning)\n"
     ]
    },
    {
     "data": {
      "text/plain": [
       "array(['ящику', 'ящиком', 'ящике'], dtype='<U23')"
      ]
     },
     "execution_count": 15,
     "metadata": {},
     "output_type": "execute_result"
    }
   ],
   "source": [
    "import numpy as np\n",
    "from sklearn.feature_extraction.text import TfidfVectorizer\n",
    "\n",
    "vectorizer = TfidfVectorizer()\n",
    "X = vectorizer.fit_transform(sentences)\n",
    "feature_array = np.array(vectorizer.get_feature_names())\n",
    "tfidf_sorting = np.argsort(feature_array).flatten()[::-1]\n",
    "\n",
    "n = 3\n",
    "top_n = feature_array[tfidf_sorting][:n]\n",
    "\n",
    "top_n"
   ]
  },
  {
   "cell_type": "markdown",
   "id": "3d083485",
   "metadata": {},
   "source": [
    "# Задание 3"
   ]
  },
  {
   "cell_type": "code",
   "execution_count": null,
   "id": "11ce3581",
   "metadata": {},
   "outputs": [],
   "source": [
    "import razdel\n",
    "import gensim\n",
    "from collections import Counter"
   ]
  },
  {
   "cell_type": "code",
   "execution_count": 29,
   "id": "791012b4",
   "metadata": {},
   "outputs": [],
   "source": [
    "ann = open('anna_karenina.txt', encoding='utf8').read().splitlines()\n",
    "ann = str(ann)"
   ]
  },
  {
   "cell_type": "code",
   "execution_count": 23,
   "id": "4a9f3229",
   "metadata": {},
   "outputs": [],
   "source": [
    "def normalize(text):\n",
    "    normalized_text = [word.text.strip(punctuation) for word \\\n",
    "                                                            in razdel_tokenize(text)]\n",
    "    normalized_text = [word.lower() for word in normalized_text if word and len(word) < 20 ]\n",
    "    return normalized_text"
   ]
  },
  {
   "cell_type": "code",
   "execution_count": 31,
   "id": "6adb8bc6",
   "metadata": {},
   "outputs": [],
   "source": [
    "ann = normalize(ann)"
   ]
  },
  {
   "cell_type": "code",
   "execution_count": 32,
   "id": "af5b5282",
   "metadata": {},
   "outputs": [],
   "source": [
    "sentences_ann = [['<start>'] + ann + ['<end>']]"
   ]
  },
  {
   "cell_type": "code",
   "execution_count": 34,
   "id": "042eb734",
   "metadata": {},
   "outputs": [],
   "source": [
    "from collections import Counter"
   ]
  },
  {
   "cell_type": "code",
   "execution_count": 36,
   "id": "4d585ad3",
   "metadata": {},
   "outputs": [],
   "source": [
    "from nltk.tokenize import sent_tokenize\n",
    "def ngrammer(tokens, n=2):\n",
    "    ngrams = []\n",
    "    for i in range(0,len(tokens)-n+1):\n",
    "        ngrams.append(' '.join(tokens[i:i+n]))\n",
    "    return ngrams"
   ]
  },
  {
   "cell_type": "code",
   "execution_count": 37,
   "id": "b05eacaf",
   "metadata": {},
   "outputs": [],
   "source": [
    "unigrams_ann = Counter()\n",
    "bigrams_ann = Counter()\n",
    "\n",
    "for sentence in sentences_ann:\n",
    "    unigrams_ann.update(sentence)\n",
    "    bigrams_ann.update(ngrammer(sentence))"
   ]
  },
  {
   "cell_type": "code",
   "execution_count": 40,
   "id": "89791870",
   "metadata": {},
   "outputs": [
    {
     "data": {
      "text/plain": [
       "33465"
      ]
     },
     "execution_count": 40,
     "metadata": {},
     "output_type": "execute_result"
    }
   ],
   "source": [
    "len(unigrams_ann)"
   ]
  },
  {
   "cell_type": "code",
   "execution_count": 41,
   "id": "60f2a2e8",
   "metadata": {},
   "outputs": [
    {
     "data": {
      "text/plain": [
       "159788"
      ]
     },
     "execution_count": 41,
     "metadata": {},
     "output_type": "execute_result"
    }
   ],
   "source": [
    "len(bigrams_ann)"
   ]
  }
 ],
 "metadata": {
  "kernelspec": {
   "display_name": "Python 3 (ipykernel)",
   "language": "python",
   "name": "python3"
  },
  "language_info": {
   "codemirror_mode": {
    "name": "ipython",
    "version": 3
   },
   "file_extension": ".py",
   "mimetype": "text/x-python",
   "name": "python",
   "nbconvert_exporter": "python",
   "pygments_lexer": "ipython3",
   "version": "3.8.7"
  }
 },
 "nbformat": 4,
 "nbformat_minor": 5
}
