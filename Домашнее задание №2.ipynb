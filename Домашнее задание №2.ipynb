{
 "cells": [
  {
   "cell_type": "markdown",
   "id": "f3705663",
   "metadata": {},
   "source": [
    "# Домашнее задание № 2. Мешок слов"
   ]
  },
  {
   "cell_type": "markdown",
   "id": "0cf72d19",
   "metadata": {},
   "source": [
    "## Задание 1 (3 балла)"
   ]
  },
  {
   "cell_type": "markdown",
   "id": "4a045e99",
   "metadata": {},
   "source": [
    "У векторайзеров в sklearn есть встроенная токенизация на регулярных выражениях. Найдите способо заменить её на кастомную токенизацию"
   ]
  },
  {
   "cell_type": "markdown",
   "id": "90b4d453",
   "metadata": {},
   "source": [
    "Обучите векторайзер с дефолтной токенизацией и с токенизацией razdel.tokenize. Обучите классификатор с каждым из векторизаторов. Сравните метрики и выберете победителя. \n",
    "\n",
    "(в вашей тетрадке должен быть код обучения и все метрики; если вы сдаете в .py файлах то сохраните полученные метрики в отдельном файле или в комментариях)"
   ]
  },
  {
   "cell_type": "code",
   "execution_count": 1,
   "id": "129c4d2e",
   "metadata": {},
   "outputs": [],
   "source": [
    "from razdel import tokenize\n",
    "import numpy as np\n",
    "import pandas as pd\n",
    "from sklearn.feature_extraction.text import CountVectorizer, TfidfVectorizer\n",
    "from sklearn.linear_model import LogisticRegression\n",
    "from sklearn.tree import DecisionTreeClassifier\n",
    "from sklearn.neighbors import KNeighborsClassifier\n",
    "from sklearn.naive_bayes import MultinomialNB\n",
    "from sklearn.ensemble import RandomForestClassifier\n",
    "from sklearn.model_selection import train_test_split\n",
    "from sklearn.metrics import classification_report, accuracy_score,  f1_score\n",
    "from sklearn.metrics.pairwise import cosine_distances, cosine_similarity\n",
    "\n",
    "from IPython.display import Image\n",
    "from IPython.core.display import HTML \n",
    "\n",
    "import nltk\n",
    "from nltk.corpus import stopwords\n",
    "from pprint import pprint"
   ]
  },
  {
   "cell_type": "code",
   "execution_count": 2,
   "id": "8bbc2365",
   "metadata": {},
   "outputs": [],
   "source": [
    "data = pd.read_csv('../Компьютерная лингвистика ВШЭ/labeled.csv')"
   ]
  },
  {
   "cell_type": "code",
   "execution_count": 3,
   "id": "3df99cf4",
   "metadata": {},
   "outputs": [
    {
     "data": {
      "text/html": [
       "<div>\n",
       "<style scoped>\n",
       "    .dataframe tbody tr th:only-of-type {\n",
       "        vertical-align: middle;\n",
       "    }\n",
       "\n",
       "    .dataframe tbody tr th {\n",
       "        vertical-align: top;\n",
       "    }\n",
       "\n",
       "    .dataframe thead th {\n",
       "        text-align: right;\n",
       "    }\n",
       "</style>\n",
       "<table border=\"1\" class=\"dataframe\">\n",
       "  <thead>\n",
       "    <tr style=\"text-align: right;\">\n",
       "      <th></th>\n",
       "      <th>comment</th>\n",
       "      <th>toxic</th>\n",
       "    </tr>\n",
       "  </thead>\n",
       "  <tbody>\n",
       "    <tr>\n",
       "      <th>0</th>\n",
       "      <td>Верблюдов-то за что? Дебилы, бл...\\n</td>\n",
       "      <td>1.0</td>\n",
       "    </tr>\n",
       "    <tr>\n",
       "      <th>1</th>\n",
       "      <td>Хохлы, это отдушина затюканого россиянина, мол...</td>\n",
       "      <td>1.0</td>\n",
       "    </tr>\n",
       "    <tr>\n",
       "      <th>2</th>\n",
       "      <td>Собаке - собачья смерть\\n</td>\n",
       "      <td>1.0</td>\n",
       "    </tr>\n",
       "    <tr>\n",
       "      <th>3</th>\n",
       "      <td>Страницу обнови, дебил. Это тоже не оскорблени...</td>\n",
       "      <td>1.0</td>\n",
       "    </tr>\n",
       "    <tr>\n",
       "      <th>4</th>\n",
       "      <td>тебя не убедил 6-страничный пдф в том, что Скр...</td>\n",
       "      <td>1.0</td>\n",
       "    </tr>\n",
       "  </tbody>\n",
       "</table>\n",
       "</div>"
      ],
      "text/plain": [
       "                                             comment  toxic\n",
       "0               Верблюдов-то за что? Дебилы, бл...\\n    1.0\n",
       "1  Хохлы, это отдушина затюканого россиянина, мол...    1.0\n",
       "2                          Собаке - собачья смерть\\n    1.0\n",
       "3  Страницу обнови, дебил. Это тоже не оскорблени...    1.0\n",
       "4  тебя не убедил 6-страничный пдф в том, что Скр...    1.0"
      ]
     },
     "execution_count": 3,
     "metadata": {},
     "output_type": "execute_result"
    }
   ],
   "source": [
    "data.head()"
   ]
  },
  {
   "cell_type": "code",
   "execution_count": 4,
   "id": "d1f55b57",
   "metadata": {},
   "outputs": [
    {
     "data": {
      "text/plain": [
       "0.0    0.66514\n",
       "1.0    0.33486\n",
       "Name: toxic, dtype: float64"
      ]
     },
     "execution_count": 4,
     "metadata": {},
     "output_type": "execute_result"
    }
   ],
   "source": [
    "data.toxic.value_counts(normalize=True)"
   ]
  },
  {
   "cell_type": "code",
   "execution_count": 5,
   "id": "18d9d401",
   "metadata": {},
   "outputs": [],
   "source": [
    "train, test = train_test_split(data, test_size=0.1, shuffle=True)"
   ]
  },
  {
   "cell_type": "code",
   "execution_count": 6,
   "id": "58df0c4f",
   "metadata": {},
   "outputs": [],
   "source": [
    "train.reset_index(inplace=True)\n",
    "test.reset_index(inplace=True)"
   ]
  },
  {
   "cell_type": "code",
   "execution_count": 7,
   "id": "ed5718cf",
   "metadata": {},
   "outputs": [],
   "source": [
    "def razdel_token(text):\n",
    "    tokens = list(tokenize(text))\n",
    "    tokens = [token.text for token in tokens]\n",
    "    return tokens"
   ]
  },
  {
   "cell_type": "code",
   "execution_count": 8,
   "id": "241010a2",
   "metadata": {},
   "outputs": [],
   "source": [
    "default_vectorizer = CountVectorizer()\n",
    "X_1 = default_vectorizer.fit_transform(train.comment)\n",
    "X_test_1 = default_vectorizer.transform(test.comment) "
   ]
  },
  {
   "cell_type": "code",
   "execution_count": 9,
   "id": "b48b9a5e",
   "metadata": {},
   "outputs": [],
   "source": [
    "custom_vectorizer = CountVectorizer(tokenizer = razdel_token)\n",
    "X_2 = custom_vectorizer.fit_transform(train.comment)\n",
    "X_test_2 = custom_vectorizer.transform(test.comment) "
   ]
  },
  {
   "cell_type": "code",
   "execution_count": 10,
   "id": "d9bcbdb1",
   "metadata": {},
   "outputs": [],
   "source": [
    "y_train = train.toxic.values\n",
    "y_test = test.toxic.values"
   ]
  },
  {
   "cell_type": "code",
   "execution_count": 11,
   "id": "4d134ee0",
   "metadata": {},
   "outputs": [],
   "source": [
    "clf_1 = LogisticRegression(C=0.1, class_weight='balanced')\n",
    "clf_1.fit(X_1, y_train)\n",
    "\n",
    "predictions_1 = clf_1.predict(X_test_1)"
   ]
  },
  {
   "cell_type": "code",
   "execution_count": 12,
   "id": "cbe47f9d",
   "metadata": {},
   "outputs": [
    {
     "name": "stderr",
     "output_type": "stream",
     "text": [
      "c:\\users\\tanbe\\appdata\\local\\programs\\python\\python38\\lib\\site-packages\\sklearn\\linear_model\\_logistic.py:814: ConvergenceWarning: lbfgs failed to converge (status=1):\n",
      "STOP: TOTAL NO. of ITERATIONS REACHED LIMIT.\n",
      "\n",
      "Increase the number of iterations (max_iter) or scale the data as shown in:\n",
      "    https://scikit-learn.org/stable/modules/preprocessing.html\n",
      "Please also refer to the documentation for alternative solver options:\n",
      "    https://scikit-learn.org/stable/modules/linear_model.html#logistic-regression\n",
      "  n_iter_i = _check_optimize_result(\n"
     ]
    }
   ],
   "source": [
    "clf_2 = LogisticRegression(C=0.1, class_weight='balanced')\n",
    "clf_2.fit(X_2, y_train)\n",
    "\n",
    "predictions_2 = clf_2.predict(X_test_2)"
   ]
  },
  {
   "cell_type": "code",
   "execution_count": 13,
   "id": "5495400e",
   "metadata": {},
   "outputs": [
    {
     "name": "stdout",
     "output_type": "stream",
     "text": [
      "              precision    recall  f1-score   support\n",
      "\n",
      "         0.0     0.9141    0.8418    0.8764       948\n",
      "         1.0     0.7364    0.8482    0.7883       494\n",
      "\n",
      "    accuracy                         0.8440      1442\n",
      "   macro avg     0.8252    0.8450    0.8324      1442\n",
      "weighted avg     0.8532    0.8440    0.8463      1442\n",
      "\n",
      "0.7883349012229539\n"
     ]
    }
   ],
   "source": [
    "print(classification_report(y_test, predictions_1, digits=4))\n",
    "print(f1_score(y_test, predictions_1))"
   ]
  },
  {
   "cell_type": "code",
   "execution_count": 14,
   "id": "cedf52a6",
   "metadata": {},
   "outputs": [
    {
     "name": "stdout",
     "output_type": "stream",
     "text": [
      "              precision    recall  f1-score   support\n",
      "\n",
      "         0.0     0.9124    0.8460    0.8779       948\n",
      "         1.0     0.7407    0.8441    0.7890       494\n",
      "\n",
      "    accuracy                         0.8454      1442\n",
      "   macro avg     0.8265    0.8451    0.8335      1442\n",
      "weighted avg     0.8536    0.8454    0.8475      1442\n",
      "\n",
      "0.7890255439924314\n"
     ]
    }
   ],
   "source": [
    "print(classification_report(y_test, predictions_2, digits=4))\n",
    "print(f1_score(y_test, predictions_2))"
   ]
  },
  {
   "cell_type": "markdown",
   "id": "8f9288a2",
   "metadata": {},
   "source": [
    "__Кастомный классификатор работает немного лучше, чем дефолтный, судя по f-score, однако большой разницы между ними нет.__"
   ]
  },
  {
   "cell_type": "markdown",
   "id": "1ffa9f76",
   "metadata": {},
   "source": [
    "## Задание 2 (3 балла)"
   ]
  },
  {
   "cell_type": "markdown",
   "id": "5f358949",
   "metadata": {},
   "source": [
    "Преобразуйте таблицу с абсолютными частотностями в семинарской тетрадке в таблицу с tfidf значениями. (Таблица - https://i.ibb.co/r5Nc2HC/abs-bow.jpg) Формула tfidf есть в семинаре на картнике с пояснениями на английском. \n",
    "Считать нужно в питоне. Формат итоговой таблицы может быть любым, главное, чтобы был код и можно было воспроизвести вычисления. "
   ]
  },
  {
   "cell_type": "code",
   "execution_count": 15,
   "id": "c5b50abc",
   "metadata": {},
   "outputs": [],
   "source": [
    "data = np.array([\n",
    "                [1, 1, 1, 0, 0, 0],\n",
    "                [1, 1, 1, 0, 0, 0],\n",
    "                [3, 0, 1, 1, 0, 0],\n",
    "                [1, 0, 0, 1, 1, 0],\n",
    "                [0, 0, 0, 0, 0, 1]])"
   ]
  },
  {
   "cell_type": "code",
   "execution_count": 16,
   "id": "dd1d04ba",
   "metadata": {},
   "outputs": [
    {
     "data": {
      "text/html": [
       "<div>\n",
       "<style scoped>\n",
       "    .dataframe tbody tr th:only-of-type {\n",
       "        vertical-align: middle;\n",
       "    }\n",
       "\n",
       "    .dataframe tbody tr th {\n",
       "        vertical-align: top;\n",
       "    }\n",
       "\n",
       "    .dataframe thead th {\n",
       "        text-align: right;\n",
       "    }\n",
       "</style>\n",
       "<table border=\"1\" class=\"dataframe\">\n",
       "  <thead>\n",
       "    <tr style=\"text-align: right;\">\n",
       "      <th></th>\n",
       "      <th>я</th>\n",
       "      <th>ты</th>\n",
       "      <th>и</th>\n",
       "      <th>только</th>\n",
       "      <th>не</th>\n",
       "      <th>он</th>\n",
       "    </tr>\n",
       "  </thead>\n",
       "  <tbody>\n",
       "    <tr>\n",
       "      <th>я и ты</th>\n",
       "      <td>0.032303</td>\n",
       "      <td>0.132647</td>\n",
       "      <td>0.07395</td>\n",
       "      <td>0.000000</td>\n",
       "      <td>0.00000</td>\n",
       "      <td>0.00000</td>\n",
       "    </tr>\n",
       "    <tr>\n",
       "      <th>ты и я</th>\n",
       "      <td>0.032303</td>\n",
       "      <td>0.132647</td>\n",
       "      <td>0.07395</td>\n",
       "      <td>0.000000</td>\n",
       "      <td>0.00000</td>\n",
       "      <td>0.00000</td>\n",
       "    </tr>\n",
       "    <tr>\n",
       "      <th>я, я и только я</th>\n",
       "      <td>0.058146</td>\n",
       "      <td>0.000000</td>\n",
       "      <td>0.04437</td>\n",
       "      <td>0.079588</td>\n",
       "      <td>0.00000</td>\n",
       "      <td>0.00000</td>\n",
       "    </tr>\n",
       "    <tr>\n",
       "      <th>только не я</th>\n",
       "      <td>0.032303</td>\n",
       "      <td>0.000000</td>\n",
       "      <td>0.00000</td>\n",
       "      <td>0.132647</td>\n",
       "      <td>0.23299</td>\n",
       "      <td>0.00000</td>\n",
       "    </tr>\n",
       "    <tr>\n",
       "      <th>он</th>\n",
       "      <td>0.000000</td>\n",
       "      <td>0.000000</td>\n",
       "      <td>0.00000</td>\n",
       "      <td>0.000000</td>\n",
       "      <td>0.00000</td>\n",
       "      <td>0.69897</td>\n",
       "    </tr>\n",
       "  </tbody>\n",
       "</table>\n",
       "</div>"
      ],
      "text/plain": [
       "                        я        ты        и    только       не       он\n",
       "я и ты           0.032303  0.132647  0.07395  0.000000  0.00000  0.00000\n",
       "ты и я           0.032303  0.132647  0.07395  0.000000  0.00000  0.00000\n",
       "я, я и только я  0.058146  0.000000  0.04437  0.079588  0.00000  0.00000\n",
       "только не я      0.032303  0.000000  0.00000  0.132647  0.23299  0.00000\n",
       "он               0.000000  0.000000  0.00000  0.000000  0.00000  0.69897"
      ]
     },
     "execution_count": 16,
     "metadata": {},
     "output_type": "execute_result"
    }
   ],
   "source": [
    "N = data.shape[0]\n",
    "result = []\n",
    "\n",
    "for d in data:\n",
    "    dig = []\n",
    "    for word in range(len(d)):\n",
    "        dig.append(d[word] / d.sum() * np.log10(N / np.count_nonzero(data.T[word])))\n",
    "    result.append(dig)\n",
    "    \n",
    "result_table = pd.DataFrame(data=result, columns=['я', 'ты', 'и', 'только', 'не', 'он'], \n",
    "                           index=['я и ты', 'ты и я', 'я, я и только я', 'только не я', 'он'])\n",
    "result_table"
   ]
  },
  {
   "cell_type": "markdown",
   "id": "2f5bc8de",
   "metadata": {},
   "source": [
    "## Задание 3 (2 балла)"
   ]
  },
  {
   "cell_type": "markdown",
   "id": "f8961bbf",
   "metadata": {},
   "source": [
    "Обучите 2 любых разных классификатора из семинара. Предскажите токсичность для текстов из тестовой выборки (используйте одну и ту же выборку для обоих классификаторов) и найдите 10 самых токсичных для каждого из классификаторов. Сравните получаемые тексты - какие тексты совпадают, какие отличаются, правда ли тексты токсичные?"
   ]
  },
  {
   "cell_type": "markdown",
   "id": "b46681ef",
   "metadata": {},
   "source": [
    "Требования к классификаторам:   \n",
    "а) один должен использовать CountVectorizer, другой TfidfVectorizer  \n",
    "б) у векторазера должны быть вручную заданы как минимум 5 параметров  \n",
    "в) у классификатора должно быть задано вручную как минимум 2 параметра  \n",
    "г)  f1 мера каждого из классификаторов должна быть минимум 0.75  "
   ]
  },
  {
   "cell_type": "markdown",
   "id": "d88f09cc",
   "metadata": {},
   "source": [
    "### CountVectorizer и Logistic Regression"
   ]
  },
  {
   "cell_type": "code",
   "execution_count": 17,
   "id": "7cd916f1",
   "metadata": {},
   "outputs": [],
   "source": [
    "count_vectorizer = CountVectorizer(tokenizer = razdel_token, stop_words = stopwords.words('russian'),\n",
    "                                   max_df=0.05, min_df=2, max_features=12000, \n",
    "                                   ngram_range=(1, 2))\n",
    "X = count_vectorizer.fit_transform(train.comment)\n",
    "X_test = count_vectorizer.transform(test.comment)"
   ]
  },
  {
   "cell_type": "code",
   "execution_count": 18,
   "id": "f7c3c1a3",
   "metadata": {},
   "outputs": [],
   "source": [
    "lr = LogisticRegression(C=5, penalty='l2', solver='newton-cg')\n",
    "lr.fit(X, y_train)\n",
    "\n",
    "preds = lr.predict(X_test)"
   ]
  },
  {
   "cell_type": "code",
   "execution_count": 19,
   "id": "e9b1ca15",
   "metadata": {},
   "outputs": [
    {
     "name": "stdout",
     "output_type": "stream",
     "text": [
      "              precision    recall  f1-score   support\n",
      "\n",
      "         0.0       0.86      0.90      0.88       948\n",
      "         1.0       0.79      0.73      0.76       494\n",
      "\n",
      "    accuracy                           0.84      1442\n",
      "   macro avg       0.83      0.81      0.82      1442\n",
      "weighted avg       0.84      0.84      0.84      1442\n",
      "\n",
      "0.7581837381203801\n"
     ]
    }
   ],
   "source": [
    "print(classification_report(y_test, preds, zero_division=0))\n",
    "print(f1_score(y_test, preds))"
   ]
  },
  {
   "cell_type": "code",
   "execution_count": 20,
   "id": "2875e919",
   "metadata": {},
   "outputs": [],
   "source": [
    "probs = lr.predict_proba(X_test)\n",
    "\n",
    "toxic_probs = [p[1] for p in probs]\n",
    "\n",
    "comments = test.comment.tolist()\n",
    "\n",
    "res = dict(zip(comments, toxic_probs))\n",
    "res_sorted = {f'{k} : {v}': v for k, v in sorted(res.items(), key=lambda item: item[1])}\n",
    "\n",
    "top_ten_lr = list(res_sorted)[-10:]"
   ]
  },
  {
   "cell_type": "markdown",
   "id": "4f833c21",
   "metadata": {},
   "source": [
    "### Tfidf Vectorizer и Наивный байесовский классификатор"
   ]
  },
  {
   "cell_type": "code",
   "execution_count": 21,
   "id": "0f22b865",
   "metadata": {},
   "outputs": [],
   "source": [
    "tfidf_vectorizer = TfidfVectorizer(tokenizer = razdel_token, stop_words = stopwords.words('russian'),\n",
    "                                   max_df=0.05, min_df=2, max_features=12000, sublinear_tf=False, \n",
    "                                   ngram_range=(1, 2))\n",
    "\n",
    "X = tfidf_vectorizer.fit_transform(train.comment)\n",
    "X_test = tfidf_vectorizer.transform(test.comment)"
   ]
  },
  {
   "cell_type": "code",
   "execution_count": 22,
   "id": "c0ea2d55",
   "metadata": {},
   "outputs": [],
   "source": [
    "mnb = MultinomialNB(fit_prior=False, alpha=1.1)\n",
    "mnb.fit(X, y_train)\n",
    "\n",
    "preds = mnb.predict(X_test)"
   ]
  },
  {
   "cell_type": "code",
   "execution_count": 23,
   "id": "67ef5eae",
   "metadata": {},
   "outputs": [
    {
     "name": "stdout",
     "output_type": "stream",
     "text": [
      "              precision    recall  f1-score   support\n",
      "\n",
      "         0.0       0.87      0.90      0.89       948\n",
      "         1.0       0.80      0.75      0.77       494\n",
      "\n",
      "    accuracy                           0.85      1442\n",
      "   macro avg       0.84      0.83      0.83      1442\n",
      "weighted avg       0.85      0.85      0.85      1442\n",
      "\n",
      "0.7740585774058577\n"
     ]
    }
   ],
   "source": [
    "print(classification_report(y_test, preds, zero_division=0))\n",
    "print(f1_score(y_test, preds))"
   ]
  },
  {
   "cell_type": "code",
   "execution_count": 24,
   "id": "3f32f76e",
   "metadata": {},
   "outputs": [],
   "source": [
    "probs = mnb.predict_proba(X_test)\n",
    "\n",
    "toxic_probs = [p[1] for p in probs]\n",
    "\n",
    "comments = test.comment.tolist()\n",
    "\n",
    "res = dict(zip(comments, toxic_probs))\n",
    "res_sorted = {f'{k} : {v}': v for k, v in sorted(res.items(), key=lambda item: item[1])}\n",
    "\n",
    "top_ten_mnb = list(res_sorted)[-10:]"
   ]
  },
  {
   "cell_type": "code",
   "execution_count": 25,
   "id": "adffb9ec",
   "metadata": {},
   "outputs": [
    {
     "data": {
      "text/plain": [
       "['Да нахуй ты мне это скинул? Если я теку от неё, естественно я пересмотрел её видосы. Но самый кайф на канале молодого человека, где он её за жопу хватает и пальцы в рот суёт. Если меня привлекают такие тян, я быдло?\\n : 0.9999972553045907',\n",
       " 'Ну а что такого то? Ясен хуй если он завел трактор то особой любви к рашке он не испытывал. Высказывает свое мнение. Все правильно говорит. Разбил розовые очки в один прекрасный день и увидел все как есть. Что он не так написал? Что люди тут друг друга не ненавидят? Все правильно пишет. Целиком читать не буду, мне времени жалко.\\n : 0.9999990052746215',\n",
       " 'Двач. Ну это пиздец, конечно. Раньше я его уважал, но теперь пошел он в пизду. На дваче такой зашквар сидеть и что самое смешное многие популярные конченные блогеры сидят на дваче, но я уж надеялся, что хотя бы Гуфен не такой, но раз он сидит на этой параше, то похуй.\\n : 0.9999994332276646',\n",
       " 'Плюсы: -Какие же хохлы дегенераты, пиздец просто. Минусы: -Какие же хохлв дегенераты, пиздец просто.\\n : 0.9999995704428339',\n",
       " 'Борщ конечно годные рецепты показывает, но нахрена он везде свою пизду суёт? Ну попала пизда на стрим ну закрой ей ебальник, её высеры никому не интересны, я смотрю кулинарный канал, а не бложик тупой пизды.\\n : 0.9999998404480716',\n",
       " 'Да Евген просто шлюшка без мнения - то блядь пиндосы ему плохие КОКОКО НА КРОВИ ВТОРОЙ МИРОВОЙ ПОДНЯЛИСЬ (намекая на поставки оружия совкам за бабки, только если бы не муриканское вооружение - сосали бы мы все сейчас длинный болт товарища фюрера) То блядь совки ему плохие - сплошная гебня и гулаги, то сука СОВКИ ХОРОШИЕ КОКОКО - НЕПРАВДА НЕ ВСЯ СТРАНА ГУЛАГ. СУКА АЖ ТРЯСЕТ. А споледний обзор - это вообще КРУЖКА - ЛУКЪЯНЕНКО КОКОКО ВЕЛИЧАЙШИЙ ФАНТАСТ СОВРЕМЕННОСТИ Я ЕЩЕ В 2005 НА НЕГО ДРОЧИЛ ПОКА ЭТО НЕ БЫЛО МЭЙНСТРИМОМ КАК ВАМ НЕ СТЫДНО ЗЛОСТНЫЕ КИНОДЕЛЫ ОБСИРАТЬ И ПОГАНИТЬ ТВОРЧЕСТВО ЭТОГО ВЕЛИКОГО ЧЕЛОВЕКА О ЛУКЪЯНЕНКО КОКОКО КОКОКО ДАЙТЕ Я ЕМУ ОТСОСУ и сука тутже через 15 минут АЙ АЙ АЙ АВТОР САМ ОДОБРИЛ ВСЕ ОТКЛОНЕНИЯ ОТ СУЖЕТА КНИГИ КАК НИХОРОШО АЙ АЙ АЙ - но даже тут побоялся сказать прямо - Лукъяненко продался - нет он увиливает и юлит как змея, ак червь, как червь ПИДОР. БЭДКОМЕДИАН - хуже червя ПИДОРА\\n : 0.9999999725412335',\n",
       " 'Политачеры, вы что ебанутые? Какого хуя я вижу тут изо дня в день треды о вымирании белой расы, замещение населения мигрантами, СЖВ, Фемки и прочие темы Западных людей которые вас желторожих потомков хазар и монголов вообще ебать не должно в принципе? Вы же все метисы-монголоиды, настоящие белые это Нордиды, коих в Восточной Европе едва ли наберется 10 от всего населения. Белый человек это классический Германец или Скандинав, то есть белый Долихоцефал. Узкое, длинное лицо, с массивной челюстью, без выступающих монголоидных скул, выпирающий затылок. Где вы видели таких Восточных Европейцев? Круглоголовые вы маньки. Заканчивайте уже, не позорьтесь каргокультисты. В Германии полно круглоголовых Альпинидов!! Да, и населяют они а основном центр и юг Германии, и к белой Нордической расе официально не относились, так как немецкие антропологи причисляли их к мишлингам с Вендами (Западными Славянами) которые и есть виновники в округлении их голов. Гитлер даже называл их Рейнскими Ублюками то есть немцев по другую, Южную сторону реки Рейн . Ряяя Негры тоже Долихоцефалы!!! Да, некоторые племена действительно имеют низкие значения цефального индекса, но сравнивать негров и белых Долихоцефалов как минимум некорректно, ибо черепа негров больше похожи по своему строению черепа обезьян. Итальянцы, Латиносы, Турки и прочие Армяне также длинноголовые. Ну во первых далеко не все из них Долихоцефалы, большая часть как раз таки имеет типичный Арменоидный фенотип, а другая, которая Долихоцефалы - Средиземноморская раса которая не смотря на большое сходство с Нордической ей все же не является потому как они чернявые чурки, а ариец это в первую очередь белый господин.\\n : 0.9999999742953287',\n",
       " 'Но Трамп и в правда дегенерат. Жаль, что этот клоун победил и мы теперь живем в пиздеце. Блять, если бы Клинтон сейчас была у власти, то в мире не было бы такого трэша. В рот ебал промыток с альт-райтом головного мозга, вы же нихуя своей головой думать не можете, животные, мемов про сжв насмотрелись теперь строите из себя дохуя консерваторов.\\n : 0.9999999970720972',\n",
       " 'Путин - не Пыня. Повторяю. Путин - не пыня Даю установку, задержите дыхание, смотрите на экран П У Т И Н Н Е П Ы Н Я Все ясно, либерахи? Не пыня Путин, Пыня это Сисян.\\n : 0.9999999980191172',\n",
       " 'По мексикански Флаг: Ублюдок, мать твою, а ну иди сюда говно собачье, решил меня поднять? Ты, засранец вонючий, мать твою, а? Ну иди сюда, попробуй меня поднять, я тебя сам подниму ублюдок, онанист чертов, будь ты проклят, иди идиот, трахать тебя и всю семью, говно собачье, жлоб вонючий, дерьмо, сука, падла, иди сюда, мерзавец, негодяй, гад, иди сюда ты - говно, ЖОПА!\\n : 1.0']"
      ]
     },
     "execution_count": 25,
     "metadata": {},
     "output_type": "execute_result"
    }
   ],
   "source": [
    "top_ten_lr"
   ]
  },
  {
   "cell_type": "code",
   "execution_count": 26,
   "id": "ae4d252f",
   "metadata": {},
   "outputs": [
    {
     "data": {
      "text/plain": [
       "['Плюсы: -Какие же хохлы дегенераты, пиздец просто. Минусы: -Какие же хохлв дегенераты, пиздец просто.\\n : 0.9898849439540488',\n",
       " 'Какие же пиндосы дегенераты, пиздец просто.\\n : 0.9899341573053712',\n",
       " 'русня не умеет в готовку ... ведь поджарить хохла может только хохол\\n : 0.9902951521677654',\n",
       " 'Блять если тупой, то не иди в Бауманку... Пошел бы в ПТУ тогда уж.\\n : 0.9906903903554602',\n",
       " 'Какие же хохлы всадники, пиздец просто.\\n : 0.991642883238058',\n",
       " 'Какие же хохлы хайзенберги, пиздец просто.\\n : 0.991642883238058',\n",
       " 'Дебил блядь, стреляться в висок надо, полудурок ебанутый\\n : 0.9922842691340125',\n",
       " 'соси как хохлы сосут хохол\\n : 0.9932969822313628',\n",
       " 'Но Трамп и в правда дегенерат. Жаль, что этот клоун победил и мы теперь живем в пиздеце. Блять, если бы Клинтон сейчас была у власти, то в мире не было бы такого трэша. В рот ебал промыток с альт-райтом головного мозга, вы же нихуя своей головой думать не можете, животные, мемов про сжв насмотрелись теперь строите из себя дохуя консерваторов.\\n : 0.9948696075505427',\n",
       " 'По мексикански Флаг: Ублюдок, мать твою, а ну иди сюда говно собачье, решил меня поднять? Ты, засранец вонючий, мать твою, а? Ну иди сюда, попробуй меня поднять, я тебя сам подниму ублюдок, онанист чертов, будь ты проклят, иди идиот, трахать тебя и всю семью, говно собачье, жлоб вонючий, дерьмо, сука, падла, иди сюда, мерзавец, негодяй, гад, иди сюда ты - говно, ЖОПА!\\n : 0.9975359863806809']"
      ]
     },
     "execution_count": 26,
     "metadata": {},
     "output_type": "execute_result"
    }
   ],
   "source": [
    "top_ten_mnb"
   ]
  },
  {
   "cell_type": "markdown",
   "id": "9e9a74e1",
   "metadata": {},
   "source": [
    "__У меня совпало три комментария в двух разных классификаторах. Я бы сказала, что CountVectorizer и Logistic Regression выбрал более токсичные комментарии. У Баесовского классификатора в топ токсичных комментариев попали такие, где есть слово \"хохлы\".__"
   ]
  }
 ],
 "metadata": {
  "kernelspec": {
   "display_name": "Python 3 (ipykernel)",
   "language": "python",
   "name": "python3"
  },
  "language_info": {
   "codemirror_mode": {
    "name": "ipython",
    "version": 3
   },
   "file_extension": ".py",
   "mimetype": "text/x-python",
   "name": "python",
   "nbconvert_exporter": "python",
   "pygments_lexer": "ipython3",
   "version": "3.8.7"
  }
 },
 "nbformat": 4,
 "nbformat_minor": 5
}
