{
 "cells": [
  {
   "cell_type": "markdown",
   "id": "3eadf40f",
   "metadata": {},
   "source": [
    "# Задание 1\n",
    "Обучите word2vec модели с негативным семплированием (cbow и skip-gram) с помощью tensorflow аналогично тому, как это было сделано в семинаре. Вам нужно изменить следующие пункты: \n",
    "1) добавьте лемматизацию в предобработку (любым способом)\n",
    "\n",
    "2) измените размер окна на 6 для cbow и 12 для skip gram (обратите внимание, что размер окна = #слов слева + #слов справа, в gen_batches в семинаре window не так используется)\n",
    "\n",
    "3) измените часть с np.random.randint(vocab_size) так, чтобы случайные негативные примеры выбирались обратно пропорционально частотностям слов (частотные должны выбираться реже, а редкие чаще)\n",
    "\n",
    "Выберете несколько не похожих по смыслу слов, и протестируйте полученные эмбединги (найдите ближайшие слова и оцените правильность, как в семинаре)"
   ]
  },
  {
   "cell_type": "code",
   "execution_count": 1,
   "id": "a710a417",
   "metadata": {},
   "outputs": [],
   "source": [
    "import re\n",
    "import pandas as pd\n",
    "import numpy as np\n",
    "import gensim\n",
    "import string\n",
    "import tensorflow as tf\n",
    "from collections import Counter\n",
    "from pymorphy2 import MorphAnalyzer\n",
    "from sklearn.metrics.pairwise import cosine_distances\n",
    "from sklearn.model_selection import train_test_split\n",
    "import matplotlib.pyplot as plt\n",
    "punctuation = string.punctuation + '—«»…'"
   ]
  },
  {
   "cell_type": "code",
   "execution_count": 2,
   "id": "b9eab344",
   "metadata": {},
   "outputs": [],
   "source": [
    "wiki = open('wiki_data.txt', encoding='utf-8').read().split('\\n')"
   ]
  },
  {
   "cell_type": "code",
   "execution_count": 14,
   "id": "87ec4330",
   "metadata": {},
   "outputs": [],
   "source": [
    "def most_similar(word, embeddings):\n",
    "    similar = [id2word[i] for i in \n",
    "               cosine_distances(embeddings[word2id[word]].reshape(1, -1), embeddings).argsort()[0][:10]]\n",
    "    return similar"
   ]
  },
  {
   "cell_type": "code",
   "execution_count": 3,
   "id": "222ef924",
   "metadata": {},
   "outputs": [],
   "source": [
    "morph = MorphAnalyzer()"
   ]
  },
  {
   "cell_type": "code",
   "execution_count": 4,
   "id": "f34fddb2",
   "metadata": {},
   "outputs": [],
   "source": [
    "def preprocess(text):\n",
    "    tokenized = re.findall('[А-Яа-яёЁA-Za-z0-9-]+', text.lower())\n",
    "    lemmatized = [morph.parse(token)[0].normal_form for token in tokenized]\n",
    "    return lemmatized"
   ]
  },
  {
   "cell_type": "code",
   "execution_count": 5,
   "id": "5b968ef0",
   "metadata": {},
   "outputs": [],
   "source": [
    "vocab = Counter()\n",
    "\n",
    "for text in wiki:\n",
    "    vocab.update(preprocess(text))"
   ]
  },
  {
   "cell_type": "code",
   "execution_count": 6,
   "id": "97007e3d",
   "metadata": {},
   "outputs": [],
   "source": [
    "filtered_vocab = []\n",
    "\n",
    "for word in vocab:\n",
    "    if vocab[word] > 30:\n",
    "        filtered_vocab.append(word)"
   ]
  },
  {
   "cell_type": "code",
   "execution_count": 7,
   "id": "070800e0",
   "metadata": {},
   "outputs": [],
   "source": [
    "word2id = {word: order + 1 for order, word in enumerate(filtered_vocab)}"
   ]
  },
  {
   "cell_type": "code",
   "execution_count": 8,
   "id": "5d29a1d4",
   "metadata": {},
   "outputs": [],
   "source": [
    "word2id = { 'PAD':0}\n",
    "\n",
    "for word in filtered_vocab:\n",
    "    word2id[word] = len(word2id)"
   ]
  },
  {
   "cell_type": "code",
   "execution_count": 9,
   "id": "e8276512",
   "metadata": {},
   "outputs": [],
   "source": [
    "id2word = {i:word for word, i in word2id.items()}"
   ]
  },
  {
   "cell_type": "code",
   "execution_count": 10,
   "id": "8fc7d60f",
   "metadata": {},
   "outputs": [],
   "source": [
    "sentences = []\n",
    "\n",
    "for text in wiki:\n",
    "    tokens = preprocess(text)\n",
    "    ids = [word2id[token] for token in tokens if token in word2id]\n",
    "    sentences.append(ids)"
   ]
  },
  {
   "cell_type": "code",
   "execution_count": 11,
   "id": "068b1067",
   "metadata": {},
   "outputs": [],
   "source": [
    "vocab_size = len(id2word)"
   ]
  },
  {
   "cell_type": "code",
   "execution_count": 12,
   "id": "fa0156c3",
   "metadata": {},
   "outputs": [],
   "source": [
    "sum_occurences = sum(vocab[i] for i in filtered_vocab)"
   ]
  },
  {
   "cell_type": "code",
   "execution_count": 13,
   "id": "a3c7c48b",
   "metadata": {},
   "outputs": [],
   "source": [
    "word_probs = [vocab[word] / sum_occurences for word in filtered_vocab]"
   ]
  },
  {
   "cell_type": "markdown",
   "id": "113bfc5e",
   "metadata": {},
   "source": [
    "CBOW"
   ]
  },
  {
   "cell_type": "code",
   "execution_count": 15,
   "id": "4b3b7d7d",
   "metadata": {},
   "outputs": [],
   "source": [
    "def gen_batches_cbow(sentences, window, batch_size=1000):\n",
    "    while True:\n",
    "        X_target = []\n",
    "        X_context = []\n",
    "        y = []\n",
    "\n",
    "        for sent in sentences:\n",
    "            for i in range(len(sent)-1):\n",
    "                word = sent[i]\n",
    "                context = (sent[max(0, i - window // 2):i] + \n",
    "                           sent[i + 1:i + window // 2]) \n",
    "\n",
    "                X_target.append(word)\n",
    "                X_context.append(context)\n",
    "                y.append(1)\n",
    "                \n",
    "                X_target.append(word2id[np.random.choice(\n",
    "                    filtered_vocab, p=word_probs)])  \n",
    "                X_context.append(context)\n",
    "                y.append(0)\n",
    "\n",
    "                if len(X_target) == batch_size:\n",
    "                    X_target = np.array(X_target)\n",
    "                    X_context = tf.keras.preprocessing.sequence.pad_sequences(X_context, maxlen=window*2)\n",
    "                    y = np.array(y)\n",
    "                    yield ((X_target, X_context), y)\n",
    "                    X_target = []\n",
    "                    X_context = []\n",
    "                    y = []"
   ]
  },
  {
   "cell_type": "code",
   "execution_count": 16,
   "id": "9a8913eb",
   "metadata": {},
   "outputs": [],
   "source": [
    "inputs_target = tf.keras.layers.Input(shape=(1,))\n",
    "inputs_context = tf.keras.layers.Input(shape=(10,))\n",
    "\n",
    "embeddings_target = tf.keras.layers.Embedding(input_dim=len(word2id), output_dim=300)(inputs_target, )\n",
    "embeddings_context = tf.keras.layers.Embedding(input_dim=len(word2id), output_dim=300)(inputs_context, )\n",
    "\n",
    "target = tf.keras.layers.Flatten()(embeddings_target)\n",
    "context = tf.keras.layers.Lambda(lambda x: tf.keras.backend.sum(x, axis=1))(embeddings_context)\n",
    "\n",
    "dot = tf.keras.layers.Dot(1)([target, context])\n",
    "outputs = tf.keras.layers.Activation(activation='sigmoid')(dot)\n",
    "\n",
    "model = tf.keras.Model(inputs=[inputs_target, inputs_context], \n",
    "                       outputs=outputs)\n",
    "\n",
    "\n",
    "optimizer = tf.keras.optimizers.Adam(learning_rate=0.0001)\n",
    "model.compile(optimizer=optimizer,\n",
    "              loss='binary_crossentropy',\n",
    "              metrics=['accuracy'])"
   ]
  },
  {
   "cell_type": "markdown",
   "id": "319edbb9",
   "metadata": {},
   "source": [
    "С изменённым размером окна:"
   ]
  },
  {
   "cell_type": "code",
   "execution_count": 17,
   "id": "51b627f7",
   "metadata": {},
   "outputs": [
    {
     "name": "stdout",
     "output_type": "stream",
     "text": [
      "Epoch 1/2\n",
      "2000/2000 [==============================] - 5699s 3s/step - loss: 0.6856 - accuracy: 0.5507 - val_loss: 0.6726 - val_accuracy: 0.6033\n",
      "Epoch 2/2\n",
      "2000/2000 [==============================] - 41604s 21s/step - loss: 0.6521 - accuracy: 0.6255 - val_loss: 0.6358 - val_accuracy: 0.6428\n"
     ]
    },
    {
     "data": {
      "text/plain": [
       "<keras.callbacks.History at 0x26f9cb80be0>"
      ]
     },
     "execution_count": 17,
     "metadata": {},
     "output_type": "execute_result"
    }
   ],
   "source": [
    "model.fit(gen_batches_cbow(sentences, window=6),\n",
    "          validation_data=gen_batches_cbow(sentences,  window=6),\n",
    "          batch_size=1000,\n",
    "          steps_per_epoch=2000,\n",
    "          validation_steps=30,\n",
    "          epochs=2)"
   ]
  },
  {
   "cell_type": "code",
   "execution_count": 18,
   "id": "a9d341e2",
   "metadata": {},
   "outputs": [],
   "source": [
    "cbow_embeddings = model.layers[2].get_weights()[0]"
   ]
  },
  {
   "cell_type": "markdown",
   "id": "1e671136",
   "metadata": {},
   "source": [
    "Skip-gram"
   ]
  },
  {
   "cell_type": "code",
   "execution_count": 19,
   "id": "41955423",
   "metadata": {},
   "outputs": [],
   "source": [
    "def gen_batches_skip_gram(sentences, window, batch_size=1000):\n",
    "    while True:\n",
    "        X_target = []\n",
    "        X_context = []\n",
    "        y = []\n",
    "\n",
    "        for sent in sentences:\n",
    "            for i in range(len(sent) - 1):\n",
    "                word = sent[i]\n",
    "                context = (sent[max(0, i - window // 2):i] + \n",
    "                           sent[i + 1:i + window // 2]) # окно разбивается на две половины\n",
    "                for context_word in context:\n",
    "                    X_target.append(word)\n",
    "                    X_context.append(context_word)\n",
    "                    y.append(1)\n",
    "\n",
    "                    X_target.append(word)\n",
    "                    X_context.append(word2id[np.random.choice(\n",
    "                        filtered_vocab, p=word_probs)]) # негативные примеры выбираются пропорционально вероятностям\n",
    "                    y.append(0)\n",
    "\n",
    "                    if len(X_target) >= batch_size:\n",
    "                        X_target = np.array(X_target)\n",
    "                        X_context = np.array(X_context)\n",
    "                        y = np.array(y)\n",
    "                        yield ((X_target, X_context), y)\n",
    "                        X_target = []\n",
    "                        X_context = []\n",
    "                        y = []"
   ]
  },
  {
   "cell_type": "code",
   "execution_count": 20,
   "id": "0695c7ca",
   "metadata": {},
   "outputs": [],
   "source": [
    "inputs_target = tf.keras.layers.Input(shape=(1,))\n",
    "inputs_context = tf.keras.layers.Input(shape=(1,))\n",
    "\n",
    "embeddings_target = tf.keras.layers.Embedding(input_dim=len(word2id), output_dim=300)(inputs_target, )\n",
    "embeddings_context = tf.keras.layers.Embedding(input_dim=len(word2id), output_dim=300)(inputs_context, )\n",
    "\n",
    "target = tf.keras.layers.Flatten()(embeddings_target)\n",
    "context = tf.keras.layers.Flatten()(embeddings_context)\n",
    "\n",
    "dot = tf.keras.layers.Dot(1)([target, context])\n",
    "outputs = tf.keras.layers.Activation(activation='sigmoid')(dot)\n",
    "\n",
    "sg_model = tf.keras.Model(inputs=[inputs_target, inputs_context], \n",
    "                       outputs=outputs)\n",
    "optimizer = tf.keras.optimizers.Adam(learning_rate=0.001)\n",
    "sg_model.compile(optimizer=optimizer,\n",
    "                 loss='binary_crossentropy',\n",
    "                 metrics=['accuracy'])"
   ]
  },
  {
   "cell_type": "code",
   "execution_count": 21,
   "id": "458410b5",
   "metadata": {},
   "outputs": [],
   "source": [
    "sg_embeddings =  sg_model.layers[2].get_weights()[0]"
   ]
  },
  {
   "cell_type": "markdown",
   "id": "0213d05d",
   "metadata": {},
   "source": [
    "Сравним:"
   ]
  },
  {
   "cell_type": "code",
   "execution_count": 24,
   "id": "75dc2f6e",
   "metadata": {},
   "outputs": [
    {
     "data": {
      "text/plain": [
       "['снег',\n",
       " 'система',\n",
       " 'подключение',\n",
       " 'момент',\n",
       " 'борьба',\n",
       " 'выдвигать',\n",
       " 'мультсериал',\n",
       " 'бы',\n",
       " 'тв',\n",
       " 'кислота']"
      ]
     },
     "execution_count": 24,
     "metadata": {},
     "output_type": "execute_result"
    }
   ],
   "source": [
    "most_similar('снег', cbow_embeddings)"
   ]
  },
  {
   "cell_type": "code",
   "execution_count": 25,
   "id": "9325f8e3",
   "metadata": {},
   "outputs": [
    {
     "data": {
      "text/plain": [
       "['снег',\n",
       " 'далее',\n",
       " 'теория',\n",
       " 'возвращать',\n",
       " 'резня',\n",
       " 'терри',\n",
       " 'мэн',\n",
       " 'временной',\n",
       " 'март',\n",
       " 'некоммерческий']"
      ]
     },
     "execution_count": 25,
     "metadata": {},
     "output_type": "execute_result"
    }
   ],
   "source": [
    "most_similar('снег', sg_embeddings)"
   ]
  },
  {
   "cell_type": "markdown",
   "id": "9bd1f1f5",
   "metadata": {},
   "source": [
    "Очень странные результаты выдаёт и та, и другая модель. Skip-gram всё-таки показывает слова ближе по смыслу к исходному (март, временной)"
   ]
  },
  {
   "cell_type": "markdown",
   "id": "53d4bc90",
   "metadata": {},
   "source": [
    "# Задание 2\n",
    "\n",
    "Обучите 1 word2vec и 1 fastext модель в gensim. В каждой из модели нужно задать все параметры, которые мы разбирали на семинаре. Заданные значения должны отличаться от дефолтных и от тех, что мы использовали на семинаре."
   ]
  },
  {
   "cell_type": "code",
   "execution_count": 136,
   "id": "fac01320",
   "metadata": {},
   "outputs": [],
   "source": [
    "texts = [preprocess(text) for text in wiki]"
   ]
  },
  {
   "cell_type": "code",
   "execution_count": 137,
   "id": "f274fa26",
   "metadata": {},
   "outputs": [],
   "source": [
    "import gensim"
   ]
  },
  {
   "cell_type": "code",
   "execution_count": 138,
   "id": "75f173e9",
   "metadata": {},
   "outputs": [],
   "source": [
    "word2vec_model = gensim.models.Word2Vec(texts, \n",
    "                             vector_size=200, \n",
    "                             min_count=15, \n",
    "                             max_vocab_size=12000,\n",
    "                             window=4,\n",
    "                             epochs=10,\n",
    "                             hs=1,\n",
    "                             negative=0,\n",
    "                             sample=1e-4,\n",
    "                             ns_exponent=0,\n",
    "                             cbow_mean=0)"
   ]
  },
  {
   "cell_type": "code",
   "execution_count": 139,
   "id": "d43f4e48",
   "metadata": {},
   "outputs": [],
   "source": [
    "fasttext_model = gensim.models.FastText(texts,\n",
    "                                        vector_size=200, \n",
    "                                        min_count=15,\n",
    "                                        max_vocab_size=12000, \n",
    "                                        window=4,\n",
    "                                        epochs=10,\n",
    "                                        hs=1,\n",
    "                                        negative=0,\n",
    "                                        sample=1e-4,\n",
    "                                        ns_exponent=0,\n",
    "                                        cbow_mean=0,\n",
    "                                        min_n=4,\n",
    "                                        max_n=7)"
   ]
  },
  {
   "cell_type": "code",
   "execution_count": 140,
   "id": "235d208f",
   "metadata": {},
   "outputs": [
    {
     "data": {
      "text/plain": [
       "[('крейсер', 0.642787754535675),\n",
       " ('судно', 0.607828676700592),\n",
       " ('эскадра', 0.5978864431381226),\n",
       " ('эсминец', 0.5854548215866089),\n",
       " ('судный', 0.5616894364356995),\n",
       " ('миноносец', 0.5521610379219055),\n",
       " ('борт', 0.5320674777030945),\n",
       " ('адмирал', 0.528944730758667),\n",
       " ('флот', 0.5113173127174377),\n",
       " ('флотилия', 0.48482030630111694)]"
      ]
     },
     "execution_count": 140,
     "metadata": {},
     "output_type": "execute_result"
    }
   ],
   "source": [
    "word2vec_model.wv.most_similar('корабль')"
   ]
  },
  {
   "cell_type": "code",
   "execution_count": 141,
   "id": "1366e7b5",
   "metadata": {},
   "outputs": [
    {
     "data": {
      "text/plain": [
       "[('крейсер', 0.6746718287467957),\n",
       " ('судно', 0.6535720229148865),\n",
       " ('судный', 0.6183388829231262),\n",
       " ('эскадра', 0.5689698457717896),\n",
       " ('эсминец', 0.5681909322738647),\n",
       " ('миноносец', 0.5628681182861328),\n",
       " ('борт', 0.5330899357795715),\n",
       " ('отряд', 0.5323577523231506),\n",
       " ('флот', 0.5318790674209595),\n",
       " ('ракета', 0.5141982436180115)]"
      ]
     },
     "execution_count": 141,
     "metadata": {},
     "output_type": "execute_result"
    }
   ],
   "source": [
    "fasttext_model.wv.most_similar('корабль')"
   ]
  },
  {
   "cell_type": "code",
   "execution_count": 142,
   "id": "37d6a0a0",
   "metadata": {},
   "outputs": [
    {
     "data": {
      "text/plain": [
       "[('порода', 0.47815370559692383),\n",
       " ('животное', 0.4734041690826416),\n",
       " ('мясо', 0.42044422030448914),\n",
       " ('они', 0.40695086121559143),\n",
       " ('пища', 0.39507773518562317),\n",
       " ('пациент', 0.3897048234939575),\n",
       " ('рыба', 0.3862999379634857),\n",
       " ('свердруп', 0.38574331998825073),\n",
       " ('охота', 0.38222169876098633),\n",
       " ('опасный', 0.37021470069885254)]"
      ]
     },
     "execution_count": 142,
     "metadata": {},
     "output_type": "execute_result"
    }
   ],
   "source": [
    "word2vec_model.wv.most_similar('собака')"
   ]
  },
  {
   "cell_type": "code",
   "execution_count": 143,
   "id": "256c2596",
   "metadata": {},
   "outputs": [
    {
     "data": {
      "text/plain": [
       "[('животное', 0.5320990085601807),\n",
       " ('порода', 0.45978838205337524),\n",
       " ('они', 0.41830188035964966),\n",
       " ('мясо', 0.4162420630455017),\n",
       " ('кость', 0.41455402970314026),\n",
       " ('свердруп', 0.41053223609924316),\n",
       " ('охота', 0.40167325735092163),\n",
       " ('пища', 0.39776405692100525),\n",
       " ('рыба', 0.39150574803352356),\n",
       " ('мальчик', 0.3842502236366272)]"
      ]
     },
     "execution_count": 143,
     "metadata": {},
     "output_type": "execute_result"
    }
   ],
   "source": [
    "fasttext_model.wv.most_similar('собака')"
   ]
  },
  {
   "cell_type": "markdown",
   "id": "21e89591",
   "metadata": {},
   "source": [
    "Обе модели выдают качественные эмбеддинги."
   ]
  },
  {
   "cell_type": "markdown",
   "id": "a4c2347d",
   "metadata": {},
   "source": [
    "# Задание 3\n",
    "\n",
    "Используя датасет для классификации (labeled.csv) и простую нейронную сеть (последняя модель в семинаре), оцените качество полученных эмбедингов в задании 1 и 2 (4 набора эмбедингов), также проверьте 1 любую из предобученных моделей с rus-vectores (но только не tayga_upos_skipgram_300_2_2019). Какая модель показывает наилучший результат?\n",
    "\n",
    "Убедитесь, что для каждой модели вы корректно воспроизводите пайплайн предобработки (в 1 задании у вас лемматизация, не забудьте ее применить к датасету для классификации; у выбранной предобученной модели может быть своя специфичная предобработка - ее нужно воспроизвести)"
   ]
  },
  {
   "cell_type": "code",
   "execution_count": 144,
   "id": "3447e2c7",
   "metadata": {},
   "outputs": [],
   "source": [
    "labeled = pd.read_csv('labeled.csv')"
   ]
  },
  {
   "cell_type": "code",
   "execution_count": 145,
   "id": "e9c18d50",
   "metadata": {},
   "outputs": [],
   "source": [
    "labeled['preprocessed'] = labeled.comment.apply(preprocess)"
   ]
  },
  {
   "cell_type": "code",
   "execution_count": 146,
   "id": "d9f101fb",
   "metadata": {},
   "outputs": [
    {
     "data": {
      "text/plain": [
       "6358"
      ]
     },
     "execution_count": 146,
     "metadata": {},
     "output_type": "execute_result"
    }
   ],
   "source": [
    "vocab = Counter()\n",
    "\n",
    "for text in labeled['preprocessed']:\n",
    "    vocab.update(text)\n",
    "    \n",
    "filtered_vocab = set()\n",
    "\n",
    "for word in vocab:\n",
    "    if vocab[word] > 5:\n",
    "        filtered_vocab.add(word)\n",
    "\n",
    "len(filtered_vocab)"
   ]
  },
  {
   "cell_type": "code",
   "execution_count": 147,
   "id": "c669be21",
   "metadata": {},
   "outputs": [],
   "source": [
    "word2id = { 'PAD':0}\n",
    "\n",
    "for word in filtered_vocab:\n",
    "    word2id[word] = len(word2id)\n",
    "id2word = {i:word for word, i in word2id.items()}"
   ]
  },
  {
   "cell_type": "code",
   "execution_count": 148,
   "id": "7ac40f92",
   "metadata": {},
   "outputs": [],
   "source": [
    "X = []\n",
    "\n",
    "for tokens in labeled['preprocessed']:\n",
    "    ids = [word2id[token] for token in tokens if token in word2id]\n",
    "    X.append(ids)"
   ]
  },
  {
   "cell_type": "code",
   "execution_count": 149,
   "id": "20eb2c0c",
   "metadata": {},
   "outputs": [],
   "source": [
    "X = tf.keras.preprocessing.sequence.pad_sequences(X, maxlen=200)\n",
    "y = labeled.toxic.values"
   ]
  },
  {
   "cell_type": "code",
   "execution_count": 150,
   "id": "8b71a674",
   "metadata": {},
   "outputs": [],
   "source": [
    "X_train, X_valid, y_train, y_valid = train_test_split(X, y, test_size=0.1)"
   ]
  },
  {
   "cell_type": "markdown",
   "id": "175a0f27",
   "metadata": {},
   "source": [
    "Word2Vec"
   ]
  },
  {
   "cell_type": "code",
   "execution_count": 151,
   "id": "ee58d6e6",
   "metadata": {},
   "outputs": [],
   "source": [
    "weights = np.zeros((len(word2id), 200))\n",
    "\n",
    "for word, i in word2id.items():\n",
    "    # вектор паддинга оставим нулевым\n",
    "    if word == 'PAD':\n",
    "        continue\n",
    "    try:\n",
    "        weights[i] = word2vec_model.wv[word]\n",
    "    except KeyError:\n",
    "        # для слов, которых нет в модели тоже возьмем какой-то  рандомный вектор\n",
    "        continue\n",
    "        weights[i] = word2vec_model.wv['опрагпллирао']"
   ]
  },
  {
   "cell_type": "code",
   "execution_count": 152,
   "id": "af10142e",
   "metadata": {},
   "outputs": [],
   "source": [
    "inputs = tf.keras.layers.Input(shape=(200,))\n",
    "\n",
    "embeddings = tf.keras.layers.Embedding(input_dim=len(word2id), output_dim=200, \n",
    "                                       trainable=False,\n",
    "                                       weights=[weights])(inputs, )\n",
    "mean = tf.keras.layers.Lambda(lambda x: tf.keras.backend.mean(x,  axis=1))(embeddings)\n",
    "\n",
    "outputs = tf.keras.layers.Dense(1, activation='sigmoid')(mean)\n",
    "\n",
    "model = tf.keras.Model(inputs=inputs, outputs=outputs)\n",
    "optimizer = tf.keras.optimizers.Adam()\n",
    "model.compile(optimizer=optimizer,\n",
    "              loss='binary_crossentropy',\n",
    "              metrics=['accuracy'])"
   ]
  },
  {
   "cell_type": "code",
   "execution_count": 153,
   "id": "b574a110",
   "metadata": {},
   "outputs": [
    {
     "name": "stdout",
     "output_type": "stream",
     "text": [
      "Epoch 1/30\n",
      "406/406 [==============================] - 2s 4ms/step - loss: 0.6534 - accuracy: 0.6629 - val_loss: 0.6257 - val_accuracy: 0.6727\n",
      "Epoch 2/30\n",
      "406/406 [==============================] - 1s 3ms/step - loss: 0.6247 - accuracy: 0.6643 - val_loss: 0.6156 - val_accuracy: 0.6727\n",
      "Epoch 3/30\n",
      "406/406 [==============================] - 1s 3ms/step - loss: 0.6198 - accuracy: 0.6643 - val_loss: 0.6129 - val_accuracy: 0.6727\n",
      "Epoch 4/30\n",
      "406/406 [==============================] - 1s 4ms/step - loss: 0.6174 - accuracy: 0.6643 - val_loss: 0.6112 - val_accuracy: 0.6727\n",
      "Epoch 5/30\n",
      "406/406 [==============================] - 1s 3ms/step - loss: 0.6154 - accuracy: 0.6643 - val_loss: 0.6095 - val_accuracy: 0.6727\n",
      "Epoch 6/30\n",
      "406/406 [==============================] - 1s 3ms/step - loss: 0.6134 - accuracy: 0.6643 - val_loss: 0.6080 - val_accuracy: 0.6727\n",
      "Epoch 7/30\n",
      "406/406 [==============================] - 1s 4ms/step - loss: 0.6114 - accuracy: 0.6643 - val_loss: 0.6065 - val_accuracy: 0.6727\n",
      "Epoch 8/30\n",
      "406/406 [==============================] - 1s 3ms/step - loss: 0.6096 - accuracy: 0.6643 - val_loss: 0.6050 - val_accuracy: 0.6727\n",
      "Epoch 9/30\n",
      "406/406 [==============================] - 1s 3ms/step - loss: 0.6078 - accuracy: 0.6643 - val_loss: 0.6037 - val_accuracy: 0.6727\n",
      "Epoch 10/30\n",
      "406/406 [==============================] - 1s 4ms/step - loss: 0.6061 - accuracy: 0.6643 - val_loss: 0.6024 - val_accuracy: 0.6727\n",
      "Epoch 11/30\n",
      "406/406 [==============================] - 1s 3ms/step - loss: 0.6044 - accuracy: 0.6643 - val_loss: 0.6011 - val_accuracy: 0.6727\n",
      "Epoch 12/30\n",
      "406/406 [==============================] - 1s 3ms/step - loss: 0.6028 - accuracy: 0.6643 - val_loss: 0.5998 - val_accuracy: 0.6727\n",
      "Epoch 13/30\n",
      "406/406 [==============================] - 1s 3ms/step - loss: 0.6012 - accuracy: 0.6643 - val_loss: 0.5986 - val_accuracy: 0.6727\n",
      "Epoch 14/30\n",
      "406/406 [==============================] - 1s 4ms/step - loss: 0.5997 - accuracy: 0.6644 - val_loss: 0.5974 - val_accuracy: 0.6727\n",
      "Epoch 15/30\n",
      "406/406 [==============================] - 1s 3ms/step - loss: 0.5982 - accuracy: 0.6644 - val_loss: 0.5963 - val_accuracy: 0.6734\n",
      "Epoch 16/30\n",
      "406/406 [==============================] - 1s 3ms/step - loss: 0.5967 - accuracy: 0.6646 - val_loss: 0.5952 - val_accuracy: 0.6734\n",
      "Epoch 17/30\n",
      "406/406 [==============================] - 1s 3ms/step - loss: 0.5953 - accuracy: 0.6649 - val_loss: 0.5941 - val_accuracy: 0.6727\n",
      "Epoch 18/30\n",
      "406/406 [==============================] - 1s 3ms/step - loss: 0.5939 - accuracy: 0.6651 - val_loss: 0.5930 - val_accuracy: 0.6727\n",
      "Epoch 19/30\n",
      "406/406 [==============================] - 1s 3ms/step - loss: 0.5926 - accuracy: 0.6652 - val_loss: 0.5920 - val_accuracy: 0.6727\n",
      "Epoch 20/30\n",
      "406/406 [==============================] - 1s 3ms/step - loss: 0.5913 - accuracy: 0.6654 - val_loss: 0.5910 - val_accuracy: 0.6734\n",
      "Epoch 21/30\n",
      "406/406 [==============================] - 1s 4ms/step - loss: 0.5900 - accuracy: 0.6658 - val_loss: 0.5902 - val_accuracy: 0.6741\n",
      "Epoch 22/30\n",
      "406/406 [==============================] - 1s 3ms/step - loss: 0.5888 - accuracy: 0.6665 - val_loss: 0.5893 - val_accuracy: 0.6748\n",
      "Epoch 23/30\n",
      "406/406 [==============================] - 1s 3ms/step - loss: 0.5877 - accuracy: 0.6675 - val_loss: 0.5883 - val_accuracy: 0.6755\n",
      "Epoch 24/30\n",
      "406/406 [==============================] - 1s 4ms/step - loss: 0.5865 - accuracy: 0.6680 - val_loss: 0.5874 - val_accuracy: 0.6755\n",
      "Epoch 25/30\n",
      "406/406 [==============================] - 1s 3ms/step - loss: 0.5854 - accuracy: 0.6681 - val_loss: 0.5867 - val_accuracy: 0.6768\n",
      "Epoch 26/30\n",
      "406/406 [==============================] - 1s 3ms/step - loss: 0.5843 - accuracy: 0.6689 - val_loss: 0.5858 - val_accuracy: 0.6782\n",
      "Epoch 27/30\n",
      "406/406 [==============================] - 1s 4ms/step - loss: 0.5832 - accuracy: 0.6695 - val_loss: 0.5850 - val_accuracy: 0.6775\n",
      "Epoch 28/30\n",
      "406/406 [==============================] - 1s 3ms/step - loss: 0.5822 - accuracy: 0.6711 - val_loss: 0.5842 - val_accuracy: 0.6775\n",
      "Epoch 29/30\n",
      "406/406 [==============================] - 1s 3ms/step - loss: 0.5812 - accuracy: 0.6719 - val_loss: 0.5835 - val_accuracy: 0.6768\n",
      "Epoch 30/30\n",
      "406/406 [==============================] - 1s 3ms/step - loss: 0.5802 - accuracy: 0.6722 - val_loss: 0.5827 - val_accuracy: 0.6782\n"
     ]
    },
    {
     "data": {
      "text/plain": [
       "<keras.callbacks.History at 0x26fd5b07f10>"
      ]
     },
     "execution_count": 153,
     "metadata": {},
     "output_type": "execute_result"
    }
   ],
   "source": [
    "model.fit(X_train, y_train, \n",
    "          validation_data=(X_valid, y_valid),\n",
    "          batch_size=32,\n",
    "         epochs=30)"
   ]
  },
  {
   "cell_type": "code",
   "execution_count": 154,
   "id": "5102d5f1",
   "metadata": {},
   "outputs": [
    {
     "name": "stdout",
     "output_type": "stream",
     "text": [
      "dict_keys(['loss', 'accuracy', 'val_loss', 'val_accuracy'])\n"
     ]
    },
    {
     "data": {
      "image/png": "[encoded data removed]",
      "text/plain": [
       "<Figure size 432x288 with 1 Axes>"
      ]
     },
     "metadata": {
      "needs_background": "light"
     },
     "output_type": "display_data"
    }
   ],
   "source": [
    "print(model.history.history.keys())\n",
    "# summarize history for accuracy\n",
    "plt.plot(model.history.history['accuracy'])\n",
    "plt.plot(model.history.history['val_accuracy'])\n",
    "plt.title('model accuracy')\n",
    "plt.ylabel('accuracy')\n",
    "plt.xlabel('epoch')\n",
    "plt.legend(['train', 'val'], loc='upper left')\n",
    "plt.show()"
   ]
  },
  {
   "cell_type": "markdown",
   "id": "13879706",
   "metadata": {},
   "source": [
    "FastText"
   ]
  },
  {
   "cell_type": "code",
   "execution_count": 155,
   "id": "594605e5",
   "metadata": {},
   "outputs": [],
   "source": [
    "weights = np.zeros((len(word2id), 200))\n",
    "\n",
    "for word, i in word2id.items():\n",
    "    # вектор паддинга оставим нулевым\n",
    "    if word == 'PAD':\n",
    "        continue\n",
    "    try:\n",
    "        weights[i] = fasttext_model.wv[word]\n",
    "    except KeyError:\n",
    "        # для слов, которых нет в модели тоже возьмем какой-то  рандомный вектор\n",
    "        continue\n",
    "        weights[i] = fasttext_model.wv['опрагпллирао']"
   ]
  },
  {
   "cell_type": "code",
   "execution_count": 156,
   "id": "eb23e78d",
   "metadata": {},
   "outputs": [],
   "source": [
    "inputs = tf.keras.layers.Input(shape=(200,))\n",
    "\n",
    "embeddings = tf.keras.layers.Embedding(input_dim=len(word2id), output_dim=200, \n",
    "                                       trainable=False,\n",
    "                                       weights=[weights])(inputs, )\n",
    "mean = tf.keras.layers.Lambda(lambda x: tf.keras.backend.mean(x,  axis=1))(embeddings)\n",
    "\n",
    "outputs = tf.keras.layers.Dense(1, activation='sigmoid')(mean)\n",
    "\n",
    "model = tf.keras.Model(inputs=inputs, outputs=outputs)\n",
    "optimizer = tf.keras.optimizers.Adam()\n",
    "model.compile(optimizer=optimizer,\n",
    "              loss='binary_crossentropy',\n",
    "              metrics=['accuracy'])"
   ]
  },
  {
   "cell_type": "code",
   "execution_count": 157,
   "id": "0587edd1",
   "metadata": {},
   "outputs": [
    {
     "name": "stdout",
     "output_type": "stream",
     "text": [
      "Epoch 1/30\n",
      "406/406 [==============================] - 2s 4ms/step - loss: 0.6608 - accuracy: 0.6625 - val_loss: 0.6364 - val_accuracy: 0.6727\n",
      "Epoch 2/30\n",
      "406/406 [==============================] - 1s 3ms/step - loss: 0.6330 - accuracy: 0.6643 - val_loss: 0.6233 - val_accuracy: 0.6727\n",
      "Epoch 3/30\n",
      "406/406 [==============================] - 1s 4ms/step - loss: 0.6272 - accuracy: 0.6643 - val_loss: 0.6204 - val_accuracy: 0.6727\n",
      "Epoch 4/30\n",
      "406/406 [==============================] - 1s 4ms/step - loss: 0.6258 - accuracy: 0.6643 - val_loss: 0.6193 - val_accuracy: 0.6727\n",
      "Epoch 5/30\n",
      "406/406 [==============================] - 1s 4ms/step - loss: 0.6250 - accuracy: 0.6643 - val_loss: 0.6188 - val_accuracy: 0.6727\n",
      "Epoch 6/30\n",
      "406/406 [==============================] - 1s 4ms/step - loss: 0.6243 - accuracy: 0.6643 - val_loss: 0.6184 - val_accuracy: 0.6727\n",
      "Epoch 7/30\n",
      "406/406 [==============================] - 1s 4ms/step - loss: 0.6237 - accuracy: 0.6643 - val_loss: 0.6180 - val_accuracy: 0.6727\n",
      "Epoch 8/30\n",
      "406/406 [==============================] - 2s 4ms/step - loss: 0.6232 - accuracy: 0.6643 - val_loss: 0.6176 - val_accuracy: 0.6727\n",
      "Epoch 9/30\n",
      "406/406 [==============================] - 1s 4ms/step - loss: 0.6227 - accuracy: 0.6643 - val_loss: 0.6174 - val_accuracy: 0.6727\n",
      "Epoch 10/30\n",
      "406/406 [==============================] - 1s 3ms/step - loss: 0.6222 - accuracy: 0.6643 - val_loss: 0.6171 - val_accuracy: 0.6727\n",
      "Epoch 11/30\n",
      "406/406 [==============================] - 1s 3ms/step - loss: 0.6217 - accuracy: 0.6643 - val_loss: 0.6168 - val_accuracy: 0.6727\n",
      "Epoch 12/30\n",
      "406/406 [==============================] - 1s 3ms/step - loss: 0.6213 - accuracy: 0.6643 - val_loss: 0.6166 - val_accuracy: 0.6727\n",
      "Epoch 13/30\n",
      "406/406 [==============================] - 1s 3ms/step - loss: 0.6209 - accuracy: 0.6643 - val_loss: 0.6165 - val_accuracy: 0.6727\n",
      "Epoch 14/30\n",
      "406/406 [==============================] - 1s 3ms/step - loss: 0.6205 - accuracy: 0.6643 - val_loss: 0.6162 - val_accuracy: 0.6727\n",
      "Epoch 15/30\n",
      "406/406 [==============================] - 1s 4ms/step - loss: 0.6201 - accuracy: 0.6643 - val_loss: 0.6160 - val_accuracy: 0.6727\n",
      "Epoch 16/30\n",
      "406/406 [==============================] - 1s 3ms/step - loss: 0.6197 - accuracy: 0.6643 - val_loss: 0.6159 - val_accuracy: 0.6727\n",
      "Epoch 17/30\n",
      "406/406 [==============================] - 1s 3ms/step - loss: 0.6194 - accuracy: 0.6643 - val_loss: 0.6156 - val_accuracy: 0.6727\n",
      "Epoch 18/30\n",
      "406/406 [==============================] - 1s 4ms/step - loss: 0.6191 - accuracy: 0.6643 - val_loss: 0.6154 - val_accuracy: 0.6727\n",
      "Epoch 19/30\n",
      "406/406 [==============================] - 1s 4ms/step - loss: 0.6187 - accuracy: 0.6643 - val_loss: 0.6152 - val_accuracy: 0.6727\n",
      "Epoch 20/30\n",
      "406/406 [==============================] - 1s 3ms/step - loss: 0.6184 - accuracy: 0.6643 - val_loss: 0.6150 - val_accuracy: 0.6727\n",
      "Epoch 21/30\n",
      "406/406 [==============================] - 1s 3ms/step - loss: 0.6181 - accuracy: 0.6643 - val_loss: 0.6148 - val_accuracy: 0.6727\n",
      "Epoch 22/30\n",
      "406/406 [==============================] - 1s 3ms/step - loss: 0.6177 - accuracy: 0.6643 - val_loss: 0.6147 - val_accuracy: 0.6727\n",
      "Epoch 23/30\n",
      "406/406 [==============================] - 1s 3ms/step - loss: 0.6174 - accuracy: 0.6643 - val_loss: 0.6146 - val_accuracy: 0.6727\n",
      "Epoch 24/30\n",
      "406/406 [==============================] - 1s 3ms/step - loss: 0.6171 - accuracy: 0.6643 - val_loss: 0.6144 - val_accuracy: 0.6727\n",
      "Epoch 25/30\n",
      "406/406 [==============================] - 1s 4ms/step - loss: 0.6168 - accuracy: 0.6643 - val_loss: 0.6142 - val_accuracy: 0.6727\n",
      "Epoch 26/30\n",
      "406/406 [==============================] - 1s 3ms/step - loss: 0.6165 - accuracy: 0.6643 - val_loss: 0.6140 - val_accuracy: 0.6727\n",
      "Epoch 27/30\n",
      "406/406 [==============================] - 1s 3ms/step - loss: 0.6163 - accuracy: 0.6643 - val_loss: 0.6139 - val_accuracy: 0.6727\n",
      "Epoch 28/30\n",
      "406/406 [==============================] - 1s 4ms/step - loss: 0.6160 - accuracy: 0.6643 - val_loss: 0.6138 - val_accuracy: 0.6727\n",
      "Epoch 29/30\n",
      "406/406 [==============================] - 1s 3ms/step - loss: 0.6157 - accuracy: 0.6643 - val_loss: 0.6137 - val_accuracy: 0.6727\n",
      "Epoch 30/30\n",
      "406/406 [==============================] - 1s 3ms/step - loss: 0.6154 - accuracy: 0.6643 - val_loss: 0.6135 - val_accuracy: 0.6727\n"
     ]
    },
    {
     "data": {
      "text/plain": [
       "<keras.callbacks.History at 0x26fcc405490>"
      ]
     },
     "execution_count": 157,
     "metadata": {},
     "output_type": "execute_result"
    }
   ],
   "source": [
    "model.fit(X_train, y_train, \n",
    "          validation_data=(X_valid, y_valid),\n",
    "          batch_size=32,\n",
    "         epochs=30)"
   ]
  },
  {
   "cell_type": "code",
   "execution_count": 158,
   "id": "32eae13c",
   "metadata": {},
   "outputs": [
    {
     "name": "stdout",
     "output_type": "stream",
     "text": [
      "dict_keys(['loss', 'accuracy', 'val_loss', 'val_accuracy'])\n"
     ]
    },
    {
     "data": {
      "image/png": "[encoded data removed]",
      "text/plain": [
       "<Figure size 432x288 with 1 Axes>"
      ]
     },
     "metadata": {
      "needs_background": "light"
     },
     "output_type": "display_data"
    }
   ],
   "source": [
    "print(model.history.history.keys())\n",
    "# summarize history for accuracy\n",
    "plt.plot(model.history.history['accuracy'])\n",
    "plt.plot(model.history.history['val_accuracy'])\n",
    "plt.title('model accuracy')\n",
    "plt.ylabel('accuracy')\n",
    "plt.xlabel('epoch')\n",
    "plt.legend(['train', 'val'], loc='upper left')\n",
    "plt.show()"
   ]
  },
  {
   "cell_type": "markdown",
   "id": "02a9368d",
   "metadata": {},
   "source": [
    "CBOW"
   ]
  },
  {
   "cell_type": "code",
   "execution_count": 159,
   "id": "364ca959",
   "metadata": {},
   "outputs": [],
   "source": [
    "weights = np.zeros((len(word2id), 300))\n",
    "\n",
    "for word, i in word2id.items():\n",
    "\n",
    "    if word == 'PAD':\n",
    "        continue\n",
    "\n",
    "    try:\n",
    "        weights[i] = cbow_embeddings[word2id[word]]\n",
    "    \n",
    "    except KeyError:\n",
    "        continue\n",
    "        weights[i] = cbow_embeddings[word2id['опрагпллирао']]"
   ]
  },
  {
   "cell_type": "code",
   "execution_count": 160,
   "id": "0a0559d2",
   "metadata": {},
   "outputs": [],
   "source": [
    "inputs = tf.keras.layers.Input(shape=(200,))\n",
    "\n",
    "embeddings = tf.keras.layers.Embedding(input_dim=len(word2id), output_dim=300, \n",
    "                                       trainable=False,\n",
    "                                       weights=[weights])(inputs, )\n",
    "mean = tf.keras.layers.Lambda(lambda x: tf.keras.backend.mean(x,  axis=1))(embeddings)\n",
    "\n",
    "outputs = tf.keras.layers.Dense(1, activation='sigmoid')(mean)\n",
    "\n",
    "model = tf.keras.Model(inputs=inputs, outputs=outputs)\n",
    "optimizer = tf.keras.optimizers.Adam()\n",
    "model.compile(optimizer=optimizer,\n",
    "              loss='binary_crossentropy',\n",
    "              metrics=['accuracy'])"
   ]
  },
  {
   "cell_type": "code",
   "execution_count": 161,
   "id": "7948d940",
   "metadata": {},
   "outputs": [
    {
     "name": "stdout",
     "output_type": "stream",
     "text": [
      "Epoch 1/30\n",
      "406/406 [==============================] - 3s 5ms/step - loss: 0.6692 - accuracy: 0.6640 - val_loss: 0.6494 - val_accuracy: 0.6727\n",
      "Epoch 2/30\n",
      "406/406 [==============================] - 2s 4ms/step - loss: 0.6442 - accuracy: 0.6643 - val_loss: 0.6344 - val_accuracy: 0.6727\n",
      "Epoch 3/30\n",
      "406/406 [==============================] - 2s 4ms/step - loss: 0.6366 - accuracy: 0.6643 - val_loss: 0.6299 - val_accuracy: 0.6727\n",
      "Epoch 4/30\n",
      "406/406 [==============================] - 2s 4ms/step - loss: 0.6343 - accuracy: 0.6643 - val_loss: 0.6282 - val_accuracy: 0.6727\n",
      "Epoch 5/30\n",
      "406/406 [==============================] - 2s 5ms/step - loss: 0.6333 - accuracy: 0.6643 - val_loss: 0.6273 - val_accuracy: 0.6727\n",
      "Epoch 6/30\n",
      "406/406 [==============================] - 2s 4ms/step - loss: 0.6325 - accuracy: 0.6643 - val_loss: 0.6265 - val_accuracy: 0.6727\n",
      "Epoch 7/30\n",
      "406/406 [==============================] - 2s 4ms/step - loss: 0.6317 - accuracy: 0.6643 - val_loss: 0.6258 - val_accuracy: 0.6727\n",
      "Epoch 8/30\n",
      "406/406 [==============================] - 2s 4ms/step - loss: 0.6310 - accuracy: 0.6643 - val_loss: 0.6251 - val_accuracy: 0.6727\n",
      "Epoch 9/30\n",
      "406/406 [==============================] - 2s 4ms/step - loss: 0.6303 - accuracy: 0.6643 - val_loss: 0.6245 - val_accuracy: 0.6727\n",
      "Epoch 10/30\n",
      "406/406 [==============================] - 2s 4ms/step - loss: 0.6297 - accuracy: 0.6643 - val_loss: 0.6238 - val_accuracy: 0.6727\n",
      "Epoch 11/30\n",
      "406/406 [==============================] - 2s 4ms/step - loss: 0.6290 - accuracy: 0.6643 - val_loss: 0.6233 - val_accuracy: 0.6727\n",
      "Epoch 12/30\n",
      "406/406 [==============================] - 2s 4ms/step - loss: 0.6284 - accuracy: 0.6643 - val_loss: 0.6227 - val_accuracy: 0.6727\n",
      "Epoch 13/30\n",
      "406/406 [==============================] - 2s 5ms/step - loss: 0.6277 - accuracy: 0.6643 - val_loss: 0.6221 - val_accuracy: 0.6727\n",
      "Epoch 14/30\n",
      "406/406 [==============================] - 2s 5ms/step - loss: 0.6271 - accuracy: 0.6643 - val_loss: 0.6216 - val_accuracy: 0.6727\n",
      "Epoch 15/30\n",
      "406/406 [==============================] - 2s 4ms/step - loss: 0.6266 - accuracy: 0.6643 - val_loss: 0.6211 - val_accuracy: 0.6727\n",
      "Epoch 16/30\n",
      "406/406 [==============================] - 2s 5ms/step - loss: 0.6260 - accuracy: 0.6643 - val_loss: 0.6205 - val_accuracy: 0.6727\n",
      "Epoch 17/30\n",
      "406/406 [==============================] - 2s 4ms/step - loss: 0.6255 - accuracy: 0.6643 - val_loss: 0.6201 - val_accuracy: 0.6727\n",
      "Epoch 18/30\n",
      "406/406 [==============================] - 2s 5ms/step - loss: 0.6249 - accuracy: 0.6643 - val_loss: 0.6197 - val_accuracy: 0.6727\n",
      "Epoch 19/30\n",
      "406/406 [==============================] - 2s 4ms/step - loss: 0.6244 - accuracy: 0.6643 - val_loss: 0.6192 - val_accuracy: 0.6727\n",
      "Epoch 20/30\n",
      "406/406 [==============================] - 2s 4ms/step - loss: 0.6239 - accuracy: 0.6643 - val_loss: 0.6187 - val_accuracy: 0.6727\n",
      "Epoch 21/30\n",
      "406/406 [==============================] - 2s 4ms/step - loss: 0.6234 - accuracy: 0.6643 - val_loss: 0.6183 - val_accuracy: 0.6727\n",
      "Epoch 22/30\n",
      "406/406 [==============================] - 2s 4ms/step - loss: 0.6229 - accuracy: 0.6643 - val_loss: 0.6178 - val_accuracy: 0.6727\n",
      "Epoch 23/30\n",
      "406/406 [==============================] - 2s 4ms/step - loss: 0.6225 - accuracy: 0.6643 - val_loss: 0.6175 - val_accuracy: 0.6727\n",
      "Epoch 24/30\n",
      "406/406 [==============================] - 2s 4ms/step - loss: 0.6220 - accuracy: 0.6643 - val_loss: 0.6170 - val_accuracy: 0.6727\n",
      "Epoch 25/30\n",
      "406/406 [==============================] - 2s 5ms/step - loss: 0.6216 - accuracy: 0.6643 - val_loss: 0.6166 - val_accuracy: 0.6727\n",
      "Epoch 26/30\n",
      "406/406 [==============================] - 2s 5ms/step - loss: 0.6212 - accuracy: 0.6643 - val_loss: 0.6162 - val_accuracy: 0.6727\n",
      "Epoch 27/30\n",
      "406/406 [==============================] - 2s 4ms/step - loss: 0.6207 - accuracy: 0.6643 - val_loss: 0.6159 - val_accuracy: 0.6727\n",
      "Epoch 28/30\n",
      "406/406 [==============================] - 2s 4ms/step - loss: 0.6203 - accuracy: 0.6643 - val_loss: 0.6155 - val_accuracy: 0.6727\n",
      "Epoch 29/30\n",
      "406/406 [==============================] - 2s 5ms/step - loss: 0.6199 - accuracy: 0.6643 - val_loss: 0.6152 - val_accuracy: 0.6727\n",
      "Epoch 30/30\n",
      "406/406 [==============================] - 2s 5ms/step - loss: 0.6195 - accuracy: 0.6643 - val_loss: 0.6148 - val_accuracy: 0.6727\n"
     ]
    },
    {
     "data": {
      "text/plain": [
       "<keras.callbacks.History at 0x26fa3d50550>"
      ]
     },
     "execution_count": 161,
     "metadata": {},
     "output_type": "execute_result"
    }
   ],
   "source": [
    "model.fit(X_train, y_train, \n",
    "          validation_data=(X_valid, y_valid),\n",
    "          batch_size=32,\n",
    "          epochs=30)"
   ]
  },
  {
   "cell_type": "code",
   "execution_count": 162,
   "id": "9bec8542",
   "metadata": {},
   "outputs": [
    {
     "name": "stdout",
     "output_type": "stream",
     "text": [
      "dict_keys(['loss', 'accuracy', 'val_loss', 'val_accuracy'])\n"
     ]
    },
    {
     "data": {
      "image/png": "[encoded data removed]",
      "text/plain": [
       "<Figure size 432x288 with 1 Axes>"
      ]
     },
     "metadata": {
      "needs_background": "light"
     },
     "output_type": "display_data"
    }
   ],
   "source": [
    "print(model.history.history.keys())\n",
    "# summarize history for accuracy\n",
    "plt.plot(model.history.history['accuracy'])\n",
    "plt.plot(model.history.history['val_accuracy'])\n",
    "plt.title('model accuracy')\n",
    "plt.ylabel('accuracy')\n",
    "plt.xlabel('epoch')\n",
    "plt.legend(['train', 'val'], loc='upper left')\n",
    "plt.show()"
   ]
  },
  {
   "cell_type": "markdown",
   "id": "048db037",
   "metadata": {},
   "source": [
    "Skip-gram"
   ]
  },
  {
   "cell_type": "code",
   "execution_count": 163,
   "id": "80c71fbe",
   "metadata": {},
   "outputs": [],
   "source": [
    "weights = np.zeros((len(word2id), 300))\n",
    "\n",
    "for word, i in word2id.items():\n",
    "\n",
    "    if word == 'PAD':\n",
    "        continue\n",
    "\n",
    "    try:\n",
    "        weights[i] = sg_embeddings[word2id[word]]\n",
    "    \n",
    "    except KeyError:\n",
    "        continue\n",
    "        weights[i] = sg_embeddings[word2id['опрагпллирао']]"
   ]
  },
  {
   "cell_type": "code",
   "execution_count": 164,
   "id": "dd1cb37a",
   "metadata": {},
   "outputs": [],
   "source": [
    "inputs = tf.keras.layers.Input(shape=(200,))\n",
    "\n",
    "embeddings = tf.keras.layers.Embedding(input_dim=len(word2id), output_dim=300, \n",
    "                                       trainable=False,\n",
    "                                       weights=[weights])(inputs, )\n",
    "mean = tf.keras.layers.Lambda(lambda x: tf.keras.backend.mean(x,  axis=1))(embeddings)\n",
    "\n",
    "outputs = tf.keras.layers.Dense(1, activation='sigmoid')(mean)\n",
    "\n",
    "model = tf.keras.Model(inputs=inputs, outputs=outputs)\n",
    "optimizer = tf.keras.optimizers.Adam()\n",
    "model.compile(optimizer=optimizer,\n",
    "              loss='binary_crossentropy',\n",
    "              metrics=['accuracy'])"
   ]
  },
  {
   "cell_type": "code",
   "execution_count": 165,
   "id": "6a0fb570",
   "metadata": {},
   "outputs": [
    {
     "name": "stdout",
     "output_type": "stream",
     "text": [
      "Epoch 1/30\n",
      "406/406 [==============================] - 2s 5ms/step - loss: 0.6691 - accuracy: 0.6641 - val_loss: 0.6494 - val_accuracy: 0.6727\n",
      "Epoch 2/30\n",
      "406/406 [==============================] - 2s 5ms/step - loss: 0.6444 - accuracy: 0.6643 - val_loss: 0.6347 - val_accuracy: 0.6727\n",
      "Epoch 3/30\n",
      "406/406 [==============================] - 2s 5ms/step - loss: 0.6369 - accuracy: 0.6643 - val_loss: 0.6302 - val_accuracy: 0.6727\n",
      "Epoch 4/30\n",
      "406/406 [==============================] - 2s 5ms/step - loss: 0.6348 - accuracy: 0.6643 - val_loss: 0.6285 - val_accuracy: 0.6727\n",
      "Epoch 5/30\n",
      "406/406 [==============================] - 2s 5ms/step - loss: 0.6338 - accuracy: 0.6643 - val_loss: 0.6276 - val_accuracy: 0.6727\n",
      "Epoch 6/30\n",
      "406/406 [==============================] - 2s 4ms/step - loss: 0.6330 - accuracy: 0.6643 - val_loss: 0.6268 - val_accuracy: 0.6727\n",
      "Epoch 7/30\n",
      "406/406 [==============================] - 2s 4ms/step - loss: 0.6323 - accuracy: 0.6643 - val_loss: 0.6261 - val_accuracy: 0.6727\n",
      "Epoch 8/30\n",
      "406/406 [==============================] - 2s 4ms/step - loss: 0.6316 - accuracy: 0.6643 - val_loss: 0.6254 - val_accuracy: 0.6727\n",
      "Epoch 9/30\n",
      "406/406 [==============================] - 2s 5ms/step - loss: 0.6309 - accuracy: 0.6643 - val_loss: 0.6247 - val_accuracy: 0.6727\n",
      "Epoch 10/30\n",
      "406/406 [==============================] - 2s 5ms/step - loss: 0.6302 - accuracy: 0.6643 - val_loss: 0.6240 - val_accuracy: 0.6727\n",
      "Epoch 11/30\n",
      "406/406 [==============================] - 2s 5ms/step - loss: 0.6295 - accuracy: 0.6643 - val_loss: 0.6234 - val_accuracy: 0.6727\n",
      "Epoch 12/30\n",
      "406/406 [==============================] - 2s 4ms/step - loss: 0.6288 - accuracy: 0.6643 - val_loss: 0.6227 - val_accuracy: 0.6727\n",
      "Epoch 13/30\n",
      "406/406 [==============================] - 2s 5ms/step - loss: 0.6282 - accuracy: 0.6643 - val_loss: 0.6221 - val_accuracy: 0.6727\n",
      "Epoch 14/30\n",
      "406/406 [==============================] - 2s 5ms/step - loss: 0.6276 - accuracy: 0.6643 - val_loss: 0.6215 - val_accuracy: 0.6727\n",
      "Epoch 15/30\n",
      "406/406 [==============================] - 2s 5ms/step - loss: 0.6270 - accuracy: 0.6643 - val_loss: 0.6209 - val_accuracy: 0.6727\n",
      "Epoch 16/30\n",
      "406/406 [==============================] - 2s 5ms/step - loss: 0.6263 - accuracy: 0.6643 - val_loss: 0.6204 - val_accuracy: 0.6727\n",
      "Epoch 17/30\n",
      "406/406 [==============================] - 2s 5ms/step - loss: 0.6258 - accuracy: 0.6643 - val_loss: 0.6198 - val_accuracy: 0.6727\n",
      "Epoch 18/30\n",
      "406/406 [==============================] - 2s 5ms/step - loss: 0.6252 - accuracy: 0.6643 - val_loss: 0.6192 - val_accuracy: 0.6727\n",
      "Epoch 19/30\n",
      "406/406 [==============================] - 2s 4ms/step - loss: 0.6246 - accuracy: 0.6643 - val_loss: 0.6187 - val_accuracy: 0.6727\n",
      "Epoch 20/30\n",
      "406/406 [==============================] - 2s 5ms/step - loss: 0.6241 - accuracy: 0.6643 - val_loss: 0.6181 - val_accuracy: 0.6727\n",
      "Epoch 21/30\n",
      "406/406 [==============================] - 2s 4ms/step - loss: 0.6235 - accuracy: 0.6643 - val_loss: 0.6177 - val_accuracy: 0.6727\n",
      "Epoch 22/30\n",
      "406/406 [==============================] - 2s 5ms/step - loss: 0.6229 - accuracy: 0.6643 - val_loss: 0.6171 - val_accuracy: 0.6727\n",
      "Epoch 23/30\n",
      "406/406 [==============================] - 2s 4ms/step - loss: 0.6225 - accuracy: 0.6643 - val_loss: 0.6166 - val_accuracy: 0.6727\n",
      "Epoch 24/30\n",
      "406/406 [==============================] - 2s 5ms/step - loss: 0.6219 - accuracy: 0.6643 - val_loss: 0.6163 - val_accuracy: 0.6727\n",
      "Epoch 25/30\n",
      "406/406 [==============================] - 2s 5ms/step - loss: 0.6214 - accuracy: 0.6643 - val_loss: 0.6157 - val_accuracy: 0.6727\n",
      "Epoch 26/30\n",
      "406/406 [==============================] - 2s 5ms/step - loss: 0.6209 - accuracy: 0.6643 - val_loss: 0.6152 - val_accuracy: 0.6727\n",
      "Epoch 27/30\n",
      "406/406 [==============================] - 2s 5ms/step - loss: 0.6205 - accuracy: 0.6643 - val_loss: 0.6147 - val_accuracy: 0.6727\n",
      "Epoch 28/30\n",
      "406/406 [==============================] - 2s 5ms/step - loss: 0.6200 - accuracy: 0.6643 - val_loss: 0.6143 - val_accuracy: 0.6727\n",
      "Epoch 29/30\n",
      "406/406 [==============================] - 2s 5ms/step - loss: 0.6195 - accuracy: 0.6643 - val_loss: 0.6139 - val_accuracy: 0.6727\n",
      "Epoch 30/30\n",
      "406/406 [==============================] - 2s 4ms/step - loss: 0.6190 - accuracy: 0.6643 - val_loss: 0.6134 - val_accuracy: 0.6727\n"
     ]
    },
    {
     "data": {
      "text/plain": [
       "<keras.callbacks.History at 0x26f9f7082b0>"
      ]
     },
     "execution_count": 165,
     "metadata": {},
     "output_type": "execute_result"
    }
   ],
   "source": [
    "model.fit(X_train, y_train, \n",
    "          validation_data=(X_valid, y_valid),\n",
    "          batch_size=32,\n",
    "          epochs=30)"
   ]
  },
  {
   "cell_type": "code",
   "execution_count": 166,
   "id": "9da9fdf0",
   "metadata": {},
   "outputs": [
    {
     "name": "stdout",
     "output_type": "stream",
     "text": [
      "dict_keys(['loss', 'accuracy', 'val_loss', 'val_accuracy'])\n"
     ]
    },
    {
     "data": {
      "image/png": "[encoded data removed]",
      "text/plain": [
       "<Figure size 432x288 with 1 Axes>"
      ]
     },
     "metadata": {
      "needs_background": "light"
     },
     "output_type": "display_data"
    }
   ],
   "source": [
    "print(model.history.history.keys())\n",
    "# summarize history for accuracy\n",
    "plt.plot(model.history.history['accuracy'])\n",
    "plt.plot(model.history.history['val_accuracy'])\n",
    "plt.title('model accuracy')\n",
    "plt.ylabel('accuracy')\n",
    "plt.xlabel('epoch')\n",
    "plt.legend(['train', 'val'], loc='upper left')\n",
    "plt.show()"
   ]
  },
  {
   "cell_type": "markdown",
   "id": "757e5357",
   "metadata": {},
   "source": [
    "Лучше всего себя показала модель Word2Vec."
   ]
  }
 ],
 "metadata": {
  "kernelspec": {
   "display_name": "Python 3 (ipykernel)",
   "language": "python",
   "name": "python3"
  },
  "language_info": {
   "codemirror_mode": {
    "name": "ipython",
    "version": 3
   },
   "file_extension": ".py",
   "mimetype": "text/x-python",
   "name": "python",
   "nbconvert_exporter": "python",
   "pygments_lexer": "ipython3",
   "version": "3.8.7"
  }
 },
 "nbformat": 4,
 "nbformat_minor": 5
}
