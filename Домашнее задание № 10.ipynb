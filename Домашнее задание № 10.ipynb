{
  "cells": [
    {
      "cell_type": "markdown",
      "id": "1dba7c0d",
      "metadata": {
        "id": "1dba7c0d"
      },
      "source": [
        "# Домашнее задание № 10. Генерация текста"
      ]
    },
    {
      "cell_type": "markdown",
      "id": "76f21d5e",
      "metadata": {
        "id": "76f21d5e"
      },
      "source": [
        "### Задание 1 (8 баллов).\n",
        "\n",
        "Попробуйте дообучать GPT на каком-то другом тексте (можете попробовать любые стихи или какие-то специфичные вещи вроде анекдотов, теорий заговоров, постов в помоечных телеграм каналах, текстов журналистов и СМИ с выразительным стилем). \n",
        "Попробуйте разные методы и параметры генерации (beam search, температура, top_k и тп). Сохраните в тетрадке несколько хороших сгенерированных текстов\n"
      ]
    },
    {
      "cell_type": "code",
      "execution_count": 1,
      "id": "2444e3fe",
      "metadata": {
        "id": "2444e3fe",
        "colab": {
          "base_uri": "https://localhost:8080/"
        },
        "outputId": "6932b5ea-8b61-4c4b-c22a-02fdd9ed1437"
      },
      "outputs": [
        {
          "output_type": "stream",
          "name": "stdout",
          "text": [
            "Looking in indexes: https://pypi.org/simple, https://us-python.pkg.dev/colab-wheels/public/simple/\n",
            "Collecting transformers\n",
            "  Downloading transformers-4.19.2-py3-none-any.whl (4.2 MB)\n",
            "\u001b[K     |████████████████████████████████| 4.2 MB 5.2 MB/s \n",
            "\u001b[?25hCollecting huggingface-hub<1.0,>=0.1.0\n",
            "  Downloading huggingface_hub-0.7.0-py3-none-any.whl (86 kB)\n",
            "\u001b[K     |████████████████████████████████| 86 kB 5.1 MB/s \n",
            "\u001b[?25hRequirement already satisfied: tqdm>=4.27 in /usr/local/lib/python3.7/dist-packages (from transformers) (4.64.0)\n",
            "Requirement already satisfied: importlib-metadata in /usr/local/lib/python3.7/dist-packages (from transformers) (4.11.3)\n",
            "Collecting pyyaml>=5.1\n",
            "  Downloading PyYAML-6.0-cp37-cp37m-manylinux_2_5_x86_64.manylinux1_x86_64.manylinux_2_12_x86_64.manylinux2010_x86_64.whl (596 kB)\n",
            "\u001b[K     |████████████████████████████████| 596 kB 46.8 MB/s \n",
            "\u001b[?25hRequirement already satisfied: regex!=2019.12.17 in /usr/local/lib/python3.7/dist-packages (from transformers) (2019.12.20)\n",
            "Collecting tokenizers!=0.11.3,<0.13,>=0.11.1\n",
            "  Downloading tokenizers-0.12.1-cp37-cp37m-manylinux_2_12_x86_64.manylinux2010_x86_64.whl (6.6 MB)\n",
            "\u001b[K     |████████████████████████████████| 6.6 MB 36.0 MB/s \n",
            "\u001b[?25hRequirement already satisfied: filelock in /usr/local/lib/python3.7/dist-packages (from transformers) (3.7.0)\n",
            "Requirement already satisfied: packaging>=20.0 in /usr/local/lib/python3.7/dist-packages (from transformers) (21.3)\n",
            "Requirement already satisfied: numpy>=1.17 in /usr/local/lib/python3.7/dist-packages (from transformers) (1.21.6)\n",
            "Requirement already satisfied: requests in /usr/local/lib/python3.7/dist-packages (from transformers) (2.23.0)\n",
            "Requirement already satisfied: typing-extensions>=3.7.4.3 in /usr/local/lib/python3.7/dist-packages (from huggingface-hub<1.0,>=0.1.0->transformers) (4.2.0)\n",
            "Requirement already satisfied: pyparsing!=3.0.5,>=2.0.2 in /usr/local/lib/python3.7/dist-packages (from packaging>=20.0->transformers) (3.0.9)\n",
            "Requirement already satisfied: zipp>=0.5 in /usr/local/lib/python3.7/dist-packages (from importlib-metadata->transformers) (3.8.0)\n",
            "Requirement already satisfied: idna<3,>=2.5 in /usr/local/lib/python3.7/dist-packages (from requests->transformers) (2.10)\n",
            "Requirement already satisfied: certifi>=2017.4.17 in /usr/local/lib/python3.7/dist-packages (from requests->transformers) (2022.5.18.1)\n",
            "Requirement already satisfied: chardet<4,>=3.0.2 in /usr/local/lib/python3.7/dist-packages (from requests->transformers) (3.0.4)\n",
            "Requirement already satisfied: urllib3!=1.25.0,!=1.25.1,<1.26,>=1.21.1 in /usr/local/lib/python3.7/dist-packages (from requests->transformers) (1.24.3)\n",
            "Installing collected packages: pyyaml, tokenizers, huggingface-hub, transformers\n",
            "  Attempting uninstall: pyyaml\n",
            "    Found existing installation: PyYAML 3.13\n",
            "    Uninstalling PyYAML-3.13:\n",
            "      Successfully uninstalled PyYAML-3.13\n",
            "Successfully installed huggingface-hub-0.7.0 pyyaml-6.0 tokenizers-0.12.1 transformers-4.19.2\n"
          ]
        }
      ],
      "source": [
        "!pip install transformers"
      ]
    },
    {
      "cell_type": "code",
      "execution_count": 2,
      "id": "f07bd89b",
      "metadata": {
        "id": "f07bd89b"
      },
      "outputs": [],
      "source": [
        "from transformers import GPT2LMHeadModel, GPT2Tokenizer, TextDataset, DataCollatorForLanguageModeling\n",
        "import torch\n",
        "DEVICE = torch.device(\"cuda:0\")"
      ]
    },
    {
      "cell_type": "code",
      "source": [
        "# загружаем модель\n",
        "model_name = 'sberbank-ai/rugpt3small_based_on_gpt2'\n",
        "tokenizer = GPT2Tokenizer.from_pretrained(model_name)\n",
        "model = GPT2LMHeadModel.from_pretrained(model_name).to(DEVICE)"
      ],
      "metadata": {
        "colab": {
          "base_uri": "https://localhost:8080/",
          "height": 145,
          "referenced_widgets": [
            "ef2f52943af849cb9241aef839c23ae8",
            "fd1b178bab594e9e95d250eb4e079837",
            "72173dda367549d2b4091b735924e011",
            "3d10aaff8f1c412ba9917fb7ec498ed1",
            "7a0b145b2044484f98dcc3592aeb5b74",
            "205ca51ed16945a38c2869e41f46cbdf",
            "50547dc1d095484d80e9b14b784d934c",
            "9a6b1ae85d3742dcb517a93837e672bc",
            "e88be100f4e041bd9590bba0439de814",
            "03ca6b14cd81476a805d5b3aa366b8b9",
            "d516f4371b1345de95e340d088e510c0",
            "9fe55aa5afe648f0b330fa471c1f0b0a",
            "d350ced085884eb1979cd3c9d17258be",
            "0e3fdabc2e324be99cae9a4aefddc75b",
            "3a0858c6f7a24a10b6e5bdbaf5738575",
            "08733d7011ba4673be346e9eef3a8f56",
            "36107c7962f748c7aedf81db15947358",
            "11089d10587f4aef9d05d3891c89c47b",
            "f03e00a263324b5d8a41c0055795fce8",
            "7fcc0b6425a74f81a8e4dc994ff73fe7",
            "df48b615e5594345acd9fd8326af4c21",
            "aa18225a52f445f4a50c31e30e1f0940",
            "559b3d87b7464c6bb133e9a603a26dde",
            "0d40ad572c8549e5b5a99f9f10677d14",
            "e61137e718f4469396617268d25f8581",
            "6d129f5a52ce466a9f52853a10af89aa",
            "526129e2be7a4dd68a7f1b616c59703a",
            "090a68d88729415ebfc1961621c9b7fe",
            "8974569888314634837bbaa9ba21381a",
            "31f03b8a8f144b76b9d229868ac1a797",
            "422947b27dc944bc8e2e326c549d3150",
            "4fcdc48ef4e84a8582f267cd0692874e",
            "c0ff85acd3e84248b989a33f84dcda1f",
            "442a1a241b3f40fd87f5f09dfbc4eff3",
            "22d590632bbf48b6a5a4c4749b025071",
            "ade975ed77c749f7b9d96cbaaae0352e",
            "e7659428e4ee406aa7a49c16b8103655",
            "d68824437aa34bbe854719b0fac659e5",
            "04a6dc9c84b4461b98aa2ba757655ab8",
            "39fc8b69e072461aad08fd438e10bb33",
            "44fd9af5676343a28a562f338b62c8c8",
            "6c09318f8c084ba2b98769101e9eb574",
            "3a781ea7ffa1497dad6da2e1721fd776",
            "ee1ff64952fe45f282bef53cfccf1ab2"
          ]
        },
        "id": "nVW7EkmYbniX",
        "outputId": "9ab4f3ad-20da-4bd1-e654-cbd18fb33d38"
      },
      "id": "nVW7EkmYbniX",
      "execution_count": 3,
      "outputs": [
        {
          "output_type": "display_data",
          "data": {
            "text/plain": [
              "Downloading:   0%|          | 0.00/1.63M [00:00<?, ?B/s]"
            ],
            "application/vnd.jupyter.widget-view+json": {
              "version_major": 2,
              "version_minor": 0,
              "model_id": "ef2f52943af849cb9241aef839c23ae8"
            }
          },
          "metadata": {}
        },
        {
          "output_type": "display_data",
          "data": {
            "text/plain": [
              "Downloading:   0%|          | 0.00/1.21M [00:00<?, ?B/s]"
            ],
            "application/vnd.jupyter.widget-view+json": {
              "version_major": 2,
              "version_minor": 0,
              "model_id": "9fe55aa5afe648f0b330fa471c1f0b0a"
            }
          },
          "metadata": {}
        },
        {
          "output_type": "display_data",
          "data": {
            "text/plain": [
              "Downloading:   0%|          | 0.00/608 [00:00<?, ?B/s]"
            ],
            "application/vnd.jupyter.widget-view+json": {
              "version_major": 2,
              "version_minor": 0,
              "model_id": "559b3d87b7464c6bb133e9a603a26dde"
            }
          },
          "metadata": {}
        },
        {
          "output_type": "display_data",
          "data": {
            "text/plain": [
              "Downloading:   0%|          | 0.00/526M [00:00<?, ?B/s]"
            ],
            "application/vnd.jupyter.widget-view+json": {
              "version_major": 2,
              "version_minor": 0,
              "model_id": "442a1a241b3f40fd87f5f09dfbc4eff3"
            }
          },
          "metadata": {}
        }
      ]
    },
    {
      "cell_type": "code",
      "source": [
        "from google.colab import drive\n",
        "\n",
        "ROOT_DIR = '/content/drive' \n",
        "drive.mount(ROOT_DIR)\n",
        "\n",
        "# обучающие данные\n",
        "train_path = 'drive/MyDrive/CL_hw/great_Satan_ball.txt'"
      ],
      "metadata": {
        "colab": {
          "base_uri": "https://localhost:8080/"
        },
        "id": "5Ktw8yZhbnm6",
        "outputId": "cebb7c72-4aad-4d4f-d3f1-da6f8e8f31f3"
      },
      "id": "5Ktw8yZhbnm6",
      "execution_count": 4,
      "outputs": [
        {
          "output_type": "stream",
          "name": "stdout",
          "text": [
            "Mounted at /content/drive\n"
          ]
        }
      ]
    },
    {
      "cell_type": "code",
      "source": [
        "# Создание датасета\n",
        "train_dataset = TextDataset(tokenizer=tokenizer, file_path=train_path, block_size=64)\n",
        "  \n",
        "# специальный класс, который будет подавать в модель данные в нужном ей виде\n",
        "data_collator = DataCollatorForLanguageModeling(tokenizer=tokenizer, mlm=False)"
      ],
      "metadata": {
        "colab": {
          "base_uri": "https://localhost:8080/"
        },
        "id": "_kJzKEUSbnpI",
        "outputId": "288fc0d2-cd66-4ff2-f73f-9eb0e290be9c"
      },
      "id": "_kJzKEUSbnpI",
      "execution_count": 5,
      "outputs": [
        {
          "output_type": "stream",
          "name": "stderr",
          "text": [
            "/usr/local/lib/python3.7/dist-packages/transformers/data/datasets/language_modeling.py:58: FutureWarning: This dataset will be removed from the library soon, preprocessing should be handled with the 🤗 Datasets library. You can have a look at this example script for pointers: https://github.com/huggingface/transformers/blob/main/examples/pytorch/language-modeling/run_mlm.py\n",
            "  FutureWarning,\n"
          ]
        }
      ]
    },
    {
      "cell_type": "code",
      "source": [
        "from transformers import Trainer, TrainingArguments"
      ],
      "metadata": {
        "id": "gl0_19yThGna"
      },
      "id": "gl0_19yThGna",
      "execution_count": 6,
      "outputs": []
    },
    {
      "cell_type": "code",
      "source": [
        "training_args = TrainingArguments( \n",
        "    output_dir= 'drive/MyDrive/CL_hw/finetuned',\n",
        "    overwrite_output_dir=True,\n",
        "    num_train_epochs=100, \n",
        "    per_device_train_batch_size=32, \n",
        "    per_device_eval_batch_size=32,  \n",
        "    gradient_accumulation_steps=16, \n",
        "    )\n",
        "\n",
        "\n",
        "trainer = Trainer(\n",
        "    model=model,\n",
        "    args=training_args,\n",
        "    data_collator=data_collator,\n",
        "    train_dataset=train_dataset,\n",
        "    optimizers = (torch.optim.AdamW(model.parameters(),lr=1e-5),None) # Optimizer and lr scheduler\n",
        ")"
      ],
      "metadata": {
        "id": "ZTXFLkmjbnrZ"
      },
      "id": "ZTXFLkmjbnrZ",
      "execution_count": 7,
      "outputs": []
    },
    {
      "cell_type": "code",
      "source": [
        "trainer.train()"
      ],
      "metadata": {
        "colab": {
          "base_uri": "https://localhost:8080/",
          "height": 321
        },
        "id": "Qyi4sSc3bntn",
        "outputId": "c5392dc6-e74a-4506-8eda-2a6f6ce435c5"
      },
      "id": "Qyi4sSc3bntn",
      "execution_count": 8,
      "outputs": [
        {
          "output_type": "stream",
          "name": "stderr",
          "text": [
            "***** Running training *****\n",
            "  Num examples = 116\n",
            "  Num Epochs = 100\n",
            "  Instantaneous batch size per device = 32\n",
            "  Total train batch size (w. parallel, distributed & accumulation) = 512\n",
            "  Gradient Accumulation steps = 16\n",
            "  Total optimization steps = 100\n"
          ]
        },
        {
          "output_type": "display_data",
          "data": {
            "text/plain": [
              "<IPython.core.display.HTML object>"
            ],
            "text/html": [
              "\n",
              "    <div>\n",
              "      \n",
              "      <progress value='100' max='100' style='width:300px; height:20px; vertical-align: middle;'></progress>\n",
              "      [100/100 07:39, Epoch 100/100]\n",
              "    </div>\n",
              "    <table border=\"1\" class=\"dataframe\">\n",
              "  <thead>\n",
              " <tr style=\"text-align: left;\">\n",
              "      <th>Step</th>\n",
              "      <th>Training Loss</th>\n",
              "    </tr>\n",
              "  </thead>\n",
              "  <tbody>\n",
              "  </tbody>\n",
              "</table><p>"
            ]
          },
          "metadata": {}
        },
        {
          "output_type": "stream",
          "name": "stderr",
          "text": [
            "\n",
            "\n",
            "Training completed. Do not forget to share your model on huggingface.co/models =)\n",
            "\n",
            "\n"
          ]
        },
        {
          "output_type": "execute_result",
          "data": {
            "text/plain": [
              "TrainOutput(global_step=100, training_loss=0.6773526000976563, metrics={'train_runtime': 465.0033, 'train_samples_per_second': 24.946, 'train_steps_per_second': 0.215, 'total_flos': 378873446400000.0, 'train_loss': 0.6773526000976563, 'epoch': 100.0})"
            ]
          },
          "metadata": {},
          "execution_count": 8
        }
      ]
    },
    {
      "cell_type": "code",
      "source": [
        "text_1 = '– Где же гости? – спросила Маргарита.'\n",
        "text_2 = 'Тогда произошла метаморфоза.'\n",
        "input_ids_1 = tokenizer.encode(text_1, return_tensors='pt').to(DEVICE)\n",
        "input_ids_2 = tokenizer.encode(text_2, return_tensors='pt').to(DEVICE)"
      ],
      "metadata": {
        "id": "yMiyqg3ybnvv"
      },
      "id": "yMiyqg3ybnvv",
      "execution_count": 17,
      "outputs": []
    },
    {
      "cell_type": "markdown",
      "source": [
        "## Argmax"
      ],
      "metadata": {
        "id": "5jIMB9JGeXQX"
      },
      "id": "5jIMB9JGeXQX"
    },
    {
      "cell_type": "code",
      "source": [
        "with torch.no_grad():\n",
        "    out_1 = model.generate(input_ids_1, \n",
        "                        do_sample=False,\n",
        "                        max_length=50,\n",
        "                        )\n",
        "    out_2 = model.generate(input_ids_2, \n",
        "                        do_sample=False,\n",
        "                        max_length=50,\n",
        "                        )\n",
        "\n",
        "generated_text_1 = list(map(tokenizer.decode, out_1))[0]\n",
        "generated_text_2 = list(map(tokenizer.decode, out_2))[0]\n",
        "print()\n",
        "print('Sample 1')\n",
        "print(generated_text_1)\n",
        "print()\n",
        "print('Sample 2')\n",
        "print(generated_text_2)"
      ],
      "metadata": {
        "colab": {
          "base_uri": "https://localhost:8080/"
        },
        "id": "zcblzbmwbny5",
        "outputId": "e380a0c8-879e-498c-8304-264db8ff02b0"
      },
      "id": "zcblzbmwbny5",
      "execution_count": 18,
      "outputs": [
        {
          "output_type": "stream",
          "name": "stderr",
          "text": [
            "Setting `pad_token_id` to `eos_token_id`:50256 for open-end generation.\n",
            "Setting `pad_token_id` to `eos_token_id`:50256 for open-end generation.\n"
          ]
        },
        {
          "output_type": "stream",
          "name": "stdout",
          "text": [
            "\n",
            "Sample 1\n",
            "– Где же гости? – спросила Маргарита.\n",
            "\n",
            "– Я приглашаю вас на бал, – ответил ей Коровьев, – а вы, королева, будете королевой бала.\n",
            "\n",
            "Маргарита, не в силах больше стоять, упала на\n",
            "\n",
            "Sample 2\n",
            "Тогда произошла метаморфоза.\n",
            "\n",
            "– А, – сказал Коровьев, – я рад, что вы так быстро пришли в себя, Маргарита. Я рад, что вы пришли ко мне в гости.\n",
            "\n",
            "– Я рада, –\n"
          ]
        }
      ]
    },
    {
      "cell_type": "markdown",
      "source": [
        "## Beam Search"
      ],
      "metadata": {
        "id": "Fb3BuXTMe1NT"
      },
      "id": "Fb3BuXTMe1NT"
    },
    {
      "cell_type": "markdown",
      "source": [
        "#### num_beams = 5"
      ],
      "metadata": {
        "id": "wVu7xB46rlEW"
      },
      "id": "wVu7xB46rlEW"
    },
    {
      "cell_type": "code",
      "source": [
        "with torch.no_grad():\n",
        "    out_1 = model.generate(input_ids_1, \n",
        "                        do_sample=False,\n",
        "                        num_beams=5,\n",
        "                        max_length=50,\n",
        "                        )\n",
        "    out_2 = model.generate(input_ids_2, \n",
        "                        do_sample=False,\n",
        "                        num_beams=5,\n",
        "                        max_length=50,\n",
        "                        )\n",
        "\n",
        "generated_text_1 = list(map(tokenizer.decode, out_1))[0]\n",
        "generated_text_2 = list(map(tokenizer.decode, out_2))[0]\n",
        "print()\n",
        "print('Sample 1')\n",
        "print(generated_text_1)\n",
        "print()\n",
        "print('Sample 2')\n",
        "print(generated_text_2)"
      ],
      "metadata": {
        "colab": {
          "base_uri": "https://localhost:8080/"
        },
        "id": "cWZS6weSbn0R",
        "outputId": "91ce02dc-f0c8-4eb7-de98-4364013b2961"
      },
      "id": "cWZS6weSbn0R",
      "execution_count": 19,
      "outputs": [
        {
          "output_type": "stream",
          "name": "stderr",
          "text": [
            "Setting `pad_token_id` to `eos_token_id`:50256 for open-end generation.\n",
            "Setting `pad_token_id` to `eos_token_id`:50256 for open-end generation.\n"
          ]
        },
        {
          "output_type": "stream",
          "name": "stdout",
          "text": [
            "\n",
            "Sample 1\n",
            "– Где же гости? – спросила Маргарита.\n",
            "\n",
            "– Я приглашен, – отвечал Коровьев.\n",
            "\n",
            "– А где же Маргарита? – спросила Маргарита.\n",
            "\n",
            "– Я приглашен, – отвечал Коровьев.\n",
            "\n",
            "–\n",
            "\n",
            "Sample 2\n",
            "Тогда произошла метаморфоза.\n",
            "\n",
            "– Я в восхищении, – сказал Коровьев.\n",
            "\n",
            "– Я в восхищении, – сказал Воланд.\n",
            "\n",
            "– Я в восхищении, – сказал Коровьев.\n",
            "\n",
            "\n"
          ]
        }
      ]
    },
    {
      "cell_type": "markdown",
      "source": [
        "#### num_beams = 10"
      ],
      "metadata": {
        "id": "FvSi7vqIrrKe"
      },
      "id": "FvSi7vqIrrKe"
    },
    {
      "cell_type": "code",
      "source": [
        "with torch.no_grad():\n",
        "    out_1 = model.generate(input_ids_1, \n",
        "                        do_sample=False,\n",
        "                        num_beams=10,\n",
        "                        max_length=50,\n",
        "                        )\n",
        "    out_2 = model.generate(input_ids_2, \n",
        "                        do_sample=False,\n",
        "                        num_beams=10,\n",
        "                        max_length=50,\n",
        "                        )\n",
        "\n",
        "generated_text_1 = list(map(tokenizer.decode, out_1))[0]\n",
        "generated_text_2 = list(map(tokenizer.decode, out_2))[0]\n",
        "print()\n",
        "print('Sample 1')\n",
        "print(generated_text_1)\n",
        "print()\n",
        "print('Sample 2')\n",
        "print(generated_text_2)"
      ],
      "metadata": {
        "colab": {
          "base_uri": "https://localhost:8080/"
        },
        "id": "hdn2z3E1bn2m",
        "outputId": "c478470e-22d1-4d09-fb1f-a94575a66792"
      },
      "id": "hdn2z3E1bn2m",
      "execution_count": 20,
      "outputs": [
        {
          "output_type": "stream",
          "name": "stderr",
          "text": [
            "Setting `pad_token_id` to `eos_token_id`:50256 for open-end generation.\n",
            "Setting `pad_token_id` to `eos_token_id`:50256 for open-end generation.\n"
          ]
        },
        {
          "output_type": "stream",
          "name": "stdout",
          "text": [
            "\n",
            "Sample 1\n",
            "– Где же гости? – спросила Маргарита.\n",
            "\n",
            "– Мы в восхищении, сударыня, – ответил Коровьев.\n",
            "\n",
            "– А я в восхищении, – сказал Коровьев.\n",
            "\n",
            "– Я в восхищении, –\n",
            "\n",
            "Sample 2\n",
            "Тогда произошла метаморфоза. У Маргариты на глазах выступили слезы.\n",
            "\n",
            "– Я в восхищении, королева, – шептал Коровьев.\n",
            "\n",
            "– Я в восхищении, королева, – шептал Коровьев.\n",
            "\n",
            "–\n"
          ]
        }
      ]
    },
    {
      "cell_type": "markdown",
      "source": [
        "## Сэмплирование с Температурой"
      ],
      "metadata": {
        "id": "_64HDGkAfK2B"
      },
      "id": "_64HDGkAfK2B"
    },
    {
      "cell_type": "markdown",
      "source": [
        "#### temperature = 0.05"
      ],
      "metadata": {
        "id": "70w9eHperugc"
      },
      "id": "70w9eHperugc"
    },
    {
      "cell_type": "code",
      "source": [
        "with torch.no_grad():\n",
        "    out_1 = model.generate(input_ids_1,\n",
        "                        do_sample=True,\n",
        "                        temperature=0.05,\n",
        "                        max_length=50,\n",
        "                        )\n",
        "    out_2 = model.generate(input_ids_2, \n",
        "                        do_sample=True,\n",
        "                        temperature=0.05,\n",
        "                        max_length=50,\n",
        "                        )\n",
        "\n",
        "generated_text_1 = list(map(tokenizer.decode, out_1))[0]\n",
        "generated_text_2 = list(map(tokenizer.decode, out_2))[0]\n",
        "print()\n",
        "print('Sample 1')\n",
        "print(generated_text_1)\n",
        "print()\n",
        "print('Sample 2')\n",
        "print(generated_text_2)"
      ],
      "metadata": {
        "colab": {
          "base_uri": "https://localhost:8080/"
        },
        "id": "WwuNouBwbn4z",
        "outputId": "1ef6f4ea-d187-45b4-ff95-8a4f29cb1019"
      },
      "id": "WwuNouBwbn4z",
      "execution_count": 21,
      "outputs": [
        {
          "output_type": "stream",
          "name": "stderr",
          "text": [
            "Setting `pad_token_id` to `eos_token_id`:50256 for open-end generation.\n",
            "Setting `pad_token_id` to `eos_token_id`:50256 for open-end generation.\n"
          ]
        },
        {
          "output_type": "stream",
          "name": "stdout",
          "text": [
            "\n",
            "Sample 1\n",
            "– Где же гости? – спросила Маргарита.\n",
            "\n",
            "– Я, королева, – ответил Коровьев, – приглашаю вас в свой дом.\n",
            "\n",
            "– Я, – сказала Маргарита, – рада вас видеть.\n",
            "\n",
            "– Я, –\n",
            "\n",
            "Sample 2\n",
            "Тогда произошла метаморфоза. Маргарите показалось, что она видит перед собой не просто женщину, а женщину с женщиной.\n",
            "\n",
            "– Я рада, – сказала Маргарита, – что вы пришли ко мне в гости. Я рада, что вы пришли\n"
          ]
        }
      ]
    },
    {
      "cell_type": "markdown",
      "source": [
        ""
      ],
      "metadata": {
        "id": "Vyb0Pjv0rzSw"
      },
      "id": "Vyb0Pjv0rzSw"
    },
    {
      "cell_type": "markdown",
      "source": [
        "#### temperature = 0.75"
      ],
      "metadata": {
        "id": "lWo68JNCrzle"
      },
      "id": "lWo68JNCrzle"
    },
    {
      "cell_type": "code",
      "source": [
        "with torch.no_grad():\n",
        "    out_1 = model.generate(input_ids_1,\n",
        "                        do_sample=True,\n",
        "                        temperature=0.75,\n",
        "                        max_length=50,\n",
        "                        )\n",
        "    out_2 = model.generate(input_ids_2, \n",
        "                        do_sample=True,\n",
        "                        temperature=0.75,\n",
        "                        max_length=50,\n",
        "                        )\n",
        "\n",
        "generated_text_1 = list(map(tokenizer.decode, out_1))[0]\n",
        "generated_text_2 = list(map(tokenizer.decode, out_2))[0]\n",
        "print()\n",
        "print('Sample 1')\n",
        "print(generated_text_1)\n",
        "print()\n",
        "print('Sample 2')\n",
        "print(generated_text_2)"
      ],
      "metadata": {
        "colab": {
          "base_uri": "https://localhost:8080/"
        },
        "id": "kboP43f6bn7Y",
        "outputId": "586c786c-010b-4d3d-faa4-91f47e75ec68"
      },
      "id": "kboP43f6bn7Y",
      "execution_count": 22,
      "outputs": [
        {
          "output_type": "stream",
          "name": "stderr",
          "text": [
            "Setting `pad_token_id` to `eos_token_id`:50256 for open-end generation.\n",
            "Setting `pad_token_id` to `eos_token_id`:50256 for open-end generation.\n"
          ]
        },
        {
          "output_type": "stream",
          "name": "stdout",
          "text": [
            "\n",
            "Sample 1\n",
            "– Где же гости? – спросила Маргарита.\n",
            "\n",
            "– Загорели, – отвечал ей Коровьев, – но вчера их было много, как много, и они все не расходились.\n",
            "\n",
            "– А где хозяин? – спросила Маргарита\n",
            "\n",
            "Sample 2\n",
            "Тогда произошла метаморфоза.\n",
            "\n",
            "– Да, – прошептала Маргарита, – все было в полном порядке. И еще один человек, которого вы, наверное, не знаете, был моим другом. Я счастлива познакомиться с ним в этой компании.\n",
            "\n"
          ]
        }
      ]
    },
    {
      "cell_type": "markdown",
      "source": [
        ""
      ],
      "metadata": {
        "id": "12Pl_-L9r3kq"
      },
      "id": "12Pl_-L9r3kq"
    },
    {
      "cell_type": "markdown",
      "source": [
        "#### temperature = 1, top_k = 20"
      ],
      "metadata": {
        "id": "HeaWK1PKr32O"
      },
      "id": "HeaWK1PKr32O"
    },
    {
      "cell_type": "code",
      "source": [
        "with torch.no_grad():\n",
        "    out_1 = model.generate(input_ids_1,\n",
        "                        do_sample=True,\n",
        "                        temperature=1,\n",
        "                        top_k=20,\n",
        "                        max_length=50,\n",
        "                        )\n",
        "    out_2 = model.generate(input_ids_2, \n",
        "                        do_sample=True,\n",
        "                        temperature=1,\n",
        "                        top_k=20,\n",
        "                        max_length=50,\n",
        "                        )\n",
        "\n",
        "generated_text_1 = list(map(tokenizer.decode, out_1))[0]\n",
        "generated_text_2 = list(map(tokenizer.decode, out_2))[0]\n",
        "print()\n",
        "print('Sample 1')\n",
        "print(generated_text_1)\n",
        "print()\n",
        "print('Sample 2')\n",
        "print(generated_text_2)"
      ],
      "metadata": {
        "colab": {
          "base_uri": "https://localhost:8080/"
        },
        "id": "RRTIFQZjgV_z",
        "outputId": "6dea6452-4acf-4c2a-dc7a-1cf3070af985"
      },
      "id": "RRTIFQZjgV_z",
      "execution_count": 23,
      "outputs": [
        {
          "output_type": "stream",
          "name": "stderr",
          "text": [
            "Setting `pad_token_id` to `eos_token_id`:50256 for open-end generation.\n",
            "Setting `pad_token_id` to `eos_token_id`:50256 for open-end generation.\n"
          ]
        },
        {
          "output_type": "stream",
          "name": "stdout",
          "text": [
            "\n",
            "Sample 1\n",
            "– Где же гости? – спросила Маргарита.\n",
            "\n",
            "– Мы сегодня с вами, господа хорошие, в удивлении, госпожа Королева, – ответил за всех, высокий и дородный мужчина, – познакомились со своими гостями, и мы хотели бы задать\n",
            "\n",
            "Sample 2\n",
            "Тогда произошла метаморфоза. Теперь ее видели как бы вживую, на одной левой руке, с поднятым локтем, а все тело с отвислым животом. На голове Маргариты – черный колпак, с которого капала\n"
          ]
        }
      ]
    },
    {
      "cell_type": "markdown",
      "source": [
        ""
      ],
      "metadata": {
        "id": "nsdK2RT-r95B"
      },
      "id": "nsdK2RT-r95B"
    },
    {
      "cell_type": "markdown",
      "source": [
        "#### temperature = 0.75, top_k = 20"
      ],
      "metadata": {
        "id": "cjORvkl6r-IS"
      },
      "id": "cjORvkl6r-IS"
    },
    {
      "cell_type": "code",
      "source": [
        "with torch.no_grad():\n",
        "    out_1 = model.generate(input_ids_1,\n",
        "                        do_sample=True,\n",
        "                        temperature=0.75,\n",
        "                        top_k=10,\n",
        "                        max_length=50,\n",
        "                        )\n",
        "    out_2 = model.generate(input_ids_2, \n",
        "                        do_sample=True,\n",
        "                        temperature=0.75,\n",
        "                        top_k=10,\n",
        "                        max_length=50,\n",
        "                        )\n",
        "\n",
        "generated_text_1 = list(map(tokenizer.decode, out_1))[0]\n",
        "generated_text_2 = list(map(tokenizer.decode, out_2))[0]\n",
        "print()\n",
        "print('Sample 1')\n",
        "print(generated_text_1)\n",
        "print()\n",
        "print('Sample 2')\n",
        "print(generated_text_2)"
      ],
      "metadata": {
        "colab": {
          "base_uri": "https://localhost:8080/"
        },
        "id": "KvvXR6b_gX0t",
        "outputId": "7a836431-3eb5-49b1-ac04-bf4308257935"
      },
      "id": "KvvXR6b_gX0t",
      "execution_count": 24,
      "outputs": [
        {
          "output_type": "stream",
          "name": "stderr",
          "text": [
            "Setting `pad_token_id` to `eos_token_id`:50256 for open-end generation.\n",
            "Setting `pad_token_id` to `eos_token_id`:50256 for open-end generation.\n"
          ]
        },
        {
          "output_type": "stream",
          "name": "stdout",
          "text": [
            "\n",
            "Sample 1\n",
            "– Где же гости? – спросила Маргарита.\n",
            "\n",
            "– В зале, – ответил Коровьев, – но они не будут играть, королева.\n",
            "\n",
            "– Королева! – закричал Воланд.\n",
            "\n",
            "– Королева? – переспросил Воланд.\n",
            "\n",
            "Sample 2\n",
            "Тогда произошла метаморфоза.\n",
            "\n",
            "– Как? – в ужасе спросила Маргарита.\n",
            "\n",
            "– Ушиблась и сломана правая рука, – пояснил Коровьев, – и теперь она не может ходить.\n",
            "\n",
            "– Я в восхи\n"
          ]
        }
      ]
    },
    {
      "cell_type": "markdown",
      "id": "ae8437e8",
      "metadata": {
        "id": "ae8437e8"
      },
      "source": [
        "### Задание  2 (2 балла)\n",
        "\n",
        "Ответьте на следующие вопросы:\n",
        "\n",
        "1) В каких статья были представлены GPT-1, GPT-2, GPT-3?\n",
        "\n",
        "__Ответ:__ GPT-1 был представлени в статье __Improving Language Understanding by Generative Pre-Training__ (Radford, A., & Narasimhan, K. (2018));\n",
        "\n",
        "GPT-2 в __Language Models are Unsupervised Multitask Learners Radford__ (A., Wu, J., Child, R., Luan, D., Amodei, D., & Sutskever, I. (2019)(; \n",
        "\n",
        "GPT-3 в __Language Models are Few-Shot Learners__ (Brown, Tom B., Benjamin Mann, Nick Ryder, Melanie Subbiah, Jared Kaplan, Prafulla Dhariwal, Arvind Neelakantan, Pranav Shyam, Girish Sastry, Amanda Askell, Sandhini Agarwal, Ariel Herbert-Voss, Gretchen Krueger, T. J. Henighan, Rewon Child, Aditya Ramesh, Daniel M. Ziegler, Jeff Wu, Clemens Winter, Christopher Hesse, Mark Chen, Eric Sigler, Mateusz Litwin, Scott Gray, Benjamin Chess, Jack Clark, Christopher Berner, Sam McCandlish, Alec Radford, Ilya Sutskever and Dario Amodei).\n",
        "\n",
        "2) Как собирался обучающий корпус для GPT-3? Каким образом создатели старались обеспечить высокое качество текстов в обучающей выборке?\n",
        "\n",
        "__Ответ:__ 60% обучающей выборки состояло из отфильтрованного корпуса Common Crawl (около триллиона слов) с данными за 2016-2019 годы, кроме него использовались датасеты WebText2, Books1, Books2 и Wikipedia. \n",
        "\n",
        "Создатели старались обеспечить высокое качество с помощью автоматической фильтрации корпуса, посл которой из него исчезли тексты низкого качества; они провели дедупликацию на уровне документа для предотвращения избыточности; добавили датасеты с текстами высокого качества (WebText2, Books1, Books2 и Wikipedia)."
      ]
    }
  ],
  "metadata": {
    "kernelspec": {
      "display_name": "Python 3 (ipykernel)",
      "language": "python",
      "name": "python3"
    },
    "language_info": {
      "codemirror_mode": {
        "name": "ipython",
        "version": 3
      },
      "file_extension": ".py",
      "mimetype": "text/x-python",
      "name": "python",
      "nbconvert_exporter": "python",
      "pygments_lexer": "ipython3",
      "version": "3.8.12"
    },
    "colab": {
      "name": "Домашнее задание № 10.ipynb",
      "provenance": [],
      "collapsed_sections": []
    },
    "accelerator": "GPU",
    "widgets": {
      "application/vnd.jupyter.widget-state+json": {
        "ef2f52943af849cb9241aef839c23ae8": {
          "model_module": "@jupyter-widgets/controls",
          "model_name": "HBoxModel",
          "model_module_version": "1.5.0",
          "state": {
            "_dom_classes": [],
            "_model_module": "@jupyter-widgets/controls",
            "_model_module_version": "1.5.0",
            "_model_name": "HBoxModel",
            "_view_count": null,
            "_view_module": "@jupyter-widgets/controls",
            "_view_module_version": "1.5.0",
            "_view_name": "HBoxView",
            "box_style": "",
            "children": [
              "IPY_MODEL_fd1b178bab594e9e95d250eb4e079837",
              "IPY_MODEL_72173dda367549d2b4091b735924e011",
              "IPY_MODEL_3d10aaff8f1c412ba9917fb7ec498ed1"
            ],
            "layout": "IPY_MODEL_7a0b145b2044484f98dcc3592aeb5b74"
          }
        },
        "fd1b178bab594e9e95d250eb4e079837": {
          "model_module": "@jupyter-widgets/controls",
          "model_name": "HTMLModel",
          "model_module_version": "1.5.0",
          "state": {
            "_dom_classes": [],
            "_model_module": "@jupyter-widgets/controls",
            "_model_module_version": "1.5.0",
            "_model_name": "HTMLModel",
            "_view_count": null,
            "_view_module": "@jupyter-widgets/controls",
            "_view_module_version": "1.5.0",
            "_view_name": "HTMLView",
            "description": "",
            "description_tooltip": null,
            "layout": "IPY_MODEL_205ca51ed16945a38c2869e41f46cbdf",
            "placeholder": "​",
            "style": "IPY_MODEL_50547dc1d095484d80e9b14b784d934c",
            "value": "Downloading: 100%"
          }
        },
        "72173dda367549d2b4091b735924e011": {
          "model_module": "@jupyter-widgets/controls",
          "model_name": "FloatProgressModel",
          "model_module_version": "1.5.0",
          "state": {
            "_dom_classes": [],
            "_model_module": "@jupyter-widgets/controls",
            "_model_module_version": "1.5.0",
            "_model_name": "FloatProgressModel",
            "_view_count": null,
            "_view_module": "@jupyter-widgets/controls",
            "_view_module_version": "1.5.0",
            "_view_name": "ProgressView",
            "bar_style": "success",
            "description": "",
            "description_tooltip": null,
            "layout": "IPY_MODEL_9a6b1ae85d3742dcb517a93837e672bc",
            "max": 1713123,
            "min": 0,
            "orientation": "horizontal",
            "style": "IPY_MODEL_e88be100f4e041bd9590bba0439de814",
            "value": 1713123
          }
        },
        "3d10aaff8f1c412ba9917fb7ec498ed1": {
          "model_module": "@jupyter-widgets/controls",
          "model_name": "HTMLModel",
          "model_module_version": "1.5.0",
          "state": {
            "_dom_classes": [],
            "_model_module": "@jupyter-widgets/controls",
            "_model_module_version": "1.5.0",
            "_model_name": "HTMLModel",
            "_view_count": null,
            "_view_module": "@jupyter-widgets/controls",
            "_view_module_version": "1.5.0",
            "_view_name": "HTMLView",
            "description": "",
            "description_tooltip": null,
            "layout": "IPY_MODEL_03ca6b14cd81476a805d5b3aa366b8b9",
            "placeholder": "​",
            "style": "IPY_MODEL_d516f4371b1345de95e340d088e510c0",
            "value": " 1.63M/1.63M [00:00&lt;00:00, 1.43MB/s]"
          }
        },
        "7a0b145b2044484f98dcc3592aeb5b74": {
          "model_module": "@jupyter-widgets/base",
          "model_name": "LayoutModel",
          "model_module_version": "1.2.0",
          "state": {
            "_model_module": "@jupyter-widgets/base",
            "_model_module_version": "1.2.0",
            "_model_name": "LayoutModel",
            "_view_count": null,
            "_view_module": "@jupyter-widgets/base",
            "_view_module_version": "1.2.0",
            "_view_name": "LayoutView",
            "align_content": null,
            "align_items": null,
            "align_self": null,
            "border": null,
            "bottom": null,
            "display": null,
            "flex": null,
            "flex_flow": null,
            "grid_area": null,
            "grid_auto_columns": null,
            "grid_auto_flow": null,
            "grid_auto_rows": null,
            "grid_column": null,
            "grid_gap": null,
            "grid_row": null,
            "grid_template_areas": null,
            "grid_template_columns": null,
            "grid_template_rows": null,
            "height": null,
            "justify_content": null,
            "justify_items": null,
            "left": null,
            "margin": null,
            "max_height": null,
            "max_width": null,
            "min_height": null,
            "min_width": null,
            "object_fit": null,
            "object_position": null,
            "order": null,
            "overflow": null,
            "overflow_x": null,
            "overflow_y": null,
            "padding": null,
            "right": null,
            "top": null,
            "visibility": null,
            "width": null
          }
        },
        "205ca51ed16945a38c2869e41f46cbdf": {
          "model_module": "@jupyter-widgets/base",
          "model_name": "LayoutModel",
          "model_module_version": "1.2.0",
          "state": {
            "_model_module": "@jupyter-widgets/base",
            "_model_module_version": "1.2.0",
            "_model_name": "LayoutModel",
            "_view_count": null,
            "_view_module": "@jupyter-widgets/base",
            "_view_module_version": "1.2.0",
            "_view_name": "LayoutView",
            "align_content": null,
            "align_items": null,
            "align_self": null,
            "border": null,
            "bottom": null,
            "display": null,
            "flex": null,
            "flex_flow": null,
            "grid_area": null,
            "grid_auto_columns": null,
            "grid_auto_flow": null,
            "grid_auto_rows": null,
            "grid_column": null,
            "grid_gap": null,
            "grid_row": null,
            "grid_template_areas": null,
            "grid_template_columns": null,
            "grid_template_rows": null,
            "height": null,
            "justify_content": null,
            "justify_items": null,
            "left": null,
            "margin": null,
            "max_height": null,
            "max_width": null,
            "min_height": null,
            "min_width": null,
            "object_fit": null,
            "object_position": null,
            "order": null,
            "overflow": null,
            "overflow_x": null,
            "overflow_y": null,
            "padding": null,
            "right": null,
            "top": null,
            "visibility": null,
            "width": null
          }
        },
        "50547dc1d095484d80e9b14b784d934c": {
          "model_module": "@jupyter-widgets/controls",
          "model_name": "DescriptionStyleModel",
          "model_module_version": "1.5.0",
          "state": {
            "_model_module": "@jupyter-widgets/controls",
            "_model_module_version": "1.5.0",
            "_model_name": "DescriptionStyleModel",
            "_view_count": null,
            "_view_module": "@jupyter-widgets/base",
            "_view_module_version": "1.2.0",
            "_view_name": "StyleView",
            "description_width": ""
          }
        },
        "9a6b1ae85d3742dcb517a93837e672bc": {
          "model_module": "@jupyter-widgets/base",
          "model_name": "LayoutModel",
          "model_module_version": "1.2.0",
          "state": {
            "_model_module": "@jupyter-widgets/base",
            "_model_module_version": "1.2.0",
            "_model_name": "LayoutModel",
            "_view_count": null,
            "_view_module": "@jupyter-widgets/base",
            "_view_module_version": "1.2.0",
            "_view_name": "LayoutView",
            "align_content": null,
            "align_items": null,
            "align_self": null,
            "border": null,
            "bottom": null,
            "display": null,
            "flex": null,
            "flex_flow": null,
            "grid_area": null,
            "grid_auto_columns": null,
            "grid_auto_flow": null,
            "grid_auto_rows": null,
            "grid_column": null,
            "grid_gap": null,
            "grid_row": null,
            "grid_template_areas": null,
            "grid_template_columns": null,
            "grid_template_rows": null,
            "height": null,
            "justify_content": null,
            "justify_items": null,
            "left": null,
            "margin": null,
            "max_height": null,
            "max_width": null,
            "min_height": null,
            "min_width": null,
            "object_fit": null,
            "object_position": null,
            "order": null,
            "overflow": null,
            "overflow_x": null,
            "overflow_y": null,
            "padding": null,
            "right": null,
            "top": null,
            "visibility": null,
            "width": null
          }
        },
        "e88be100f4e041bd9590bba0439de814": {
          "model_module": "@jupyter-widgets/controls",
          "model_name": "ProgressStyleModel",
          "model_module_version": "1.5.0",
          "state": {
            "_model_module": "@jupyter-widgets/controls",
            "_model_module_version": "1.5.0",
            "_model_name": "ProgressStyleModel",
            "_view_count": null,
            "_view_module": "@jupyter-widgets/base",
            "_view_module_version": "1.2.0",
            "_view_name": "StyleView",
            "bar_color": null,
            "description_width": ""
          }
        },
        "03ca6b14cd81476a805d5b3aa366b8b9": {
          "model_module": "@jupyter-widgets/base",
          "model_name": "LayoutModel",
          "model_module_version": "1.2.0",
          "state": {
            "_model_module": "@jupyter-widgets/base",
            "_model_module_version": "1.2.0",
            "_model_name": "LayoutModel",
            "_view_count": null,
            "_view_module": "@jupyter-widgets/base",
            "_view_module_version": "1.2.0",
            "_view_name": "LayoutView",
            "align_content": null,
            "align_items": null,
            "align_self": null,
            "border": null,
            "bottom": null,
            "display": null,
            "flex": null,
            "flex_flow": null,
            "grid_area": null,
            "grid_auto_columns": null,
            "grid_auto_flow": null,
            "grid_auto_rows": null,
            "grid_column": null,
            "grid_gap": null,
            "grid_row": null,
            "grid_template_areas": null,
            "grid_template_columns": null,
            "grid_template_rows": null,
            "height": null,
            "justify_content": null,
            "justify_items": null,
            "left": null,
            "margin": null,
            "max_height": null,
            "max_width": null,
            "min_height": null,
            "min_width": null,
            "object_fit": null,
            "object_position": null,
            "order": null,
            "overflow": null,
            "overflow_x": null,
            "overflow_y": null,
            "padding": null,
            "right": null,
            "top": null,
            "visibility": null,
            "width": null
          }
        },
        "d516f4371b1345de95e340d088e510c0": {
          "model_module": "@jupyter-widgets/controls",
          "model_name": "DescriptionStyleModel",
          "model_module_version": "1.5.0",
          "state": {
            "_model_module": "@jupyter-widgets/controls",
            "_model_module_version": "1.5.0",
            "_model_name": "DescriptionStyleModel",
            "_view_count": null,
            "_view_module": "@jupyter-widgets/base",
            "_view_module_version": "1.2.0",
            "_view_name": "StyleView",
            "description_width": ""
          }
        },
        "9fe55aa5afe648f0b330fa471c1f0b0a": {
          "model_module": "@jupyter-widgets/controls",
          "model_name": "HBoxModel",
          "model_module_version": "1.5.0",
          "state": {
            "_dom_classes": [],
            "_model_module": "@jupyter-widgets/controls",
            "_model_module_version": "1.5.0",
            "_model_name": "HBoxModel",
            "_view_count": null,
            "_view_module": "@jupyter-widgets/controls",
            "_view_module_version": "1.5.0",
            "_view_name": "HBoxView",
            "box_style": "",
            "children": [
              "IPY_MODEL_d350ced085884eb1979cd3c9d17258be",
              "IPY_MODEL_0e3fdabc2e324be99cae9a4aefddc75b",
              "IPY_MODEL_3a0858c6f7a24a10b6e5bdbaf5738575"
            ],
            "layout": "IPY_MODEL_08733d7011ba4673be346e9eef3a8f56"
          }
        },
        "d350ced085884eb1979cd3c9d17258be": {
          "model_module": "@jupyter-widgets/controls",
          "model_name": "HTMLModel",
          "model_module_version": "1.5.0",
          "state": {
            "_dom_classes": [],
            "_model_module": "@jupyter-widgets/controls",
            "_model_module_version": "1.5.0",
            "_model_name": "HTMLModel",
            "_view_count": null,
            "_view_module": "@jupyter-widgets/controls",
            "_view_module_version": "1.5.0",
            "_view_name": "HTMLView",
            "description": "",
            "description_tooltip": null,
            "layout": "IPY_MODEL_36107c7962f748c7aedf81db15947358",
            "placeholder": "​",
            "style": "IPY_MODEL_11089d10587f4aef9d05d3891c89c47b",
            "value": "Downloading: 100%"
          }
        },
        "0e3fdabc2e324be99cae9a4aefddc75b": {
          "model_module": "@jupyter-widgets/controls",
          "model_name": "FloatProgressModel",
          "model_module_version": "1.5.0",
          "state": {
            "_dom_classes": [],
            "_model_module": "@jupyter-widgets/controls",
            "_model_module_version": "1.5.0",
            "_model_name": "FloatProgressModel",
            "_view_count": null,
            "_view_module": "@jupyter-widgets/controls",
            "_view_module_version": "1.5.0",
            "_view_name": "ProgressView",
            "bar_style": "success",
            "description": "",
            "description_tooltip": null,
            "layout": "IPY_MODEL_f03e00a263324b5d8a41c0055795fce8",
            "max": 1270925,
            "min": 0,
            "orientation": "horizontal",
            "style": "IPY_MODEL_7fcc0b6425a74f81a8e4dc994ff73fe7",
            "value": 1270925
          }
        },
        "3a0858c6f7a24a10b6e5bdbaf5738575": {
          "model_module": "@jupyter-widgets/controls",
          "model_name": "HTMLModel",
          "model_module_version": "1.5.0",
          "state": {
            "_dom_classes": [],
            "_model_module": "@jupyter-widgets/controls",
            "_model_module_version": "1.5.0",
            "_model_name": "HTMLModel",
            "_view_count": null,
            "_view_module": "@jupyter-widgets/controls",
            "_view_module_version": "1.5.0",
            "_view_name": "HTMLView",
            "description": "",
            "description_tooltip": null,
            "layout": "IPY_MODEL_df48b615e5594345acd9fd8326af4c21",
            "placeholder": "​",
            "style": "IPY_MODEL_aa18225a52f445f4a50c31e30e1f0940",
            "value": " 1.21M/1.21M [00:00&lt;00:00, 2.76MB/s]"
          }
        },
        "08733d7011ba4673be346e9eef3a8f56": {
          "model_module": "@jupyter-widgets/base",
          "model_name": "LayoutModel",
          "model_module_version": "1.2.0",
          "state": {
            "_model_module": "@jupyter-widgets/base",
            "_model_module_version": "1.2.0",
            "_model_name": "LayoutModel",
            "_view_count": null,
            "_view_module": "@jupyter-widgets/base",
            "_view_module_version": "1.2.0",
            "_view_name": "LayoutView",
            "align_content": null,
            "align_items": null,
            "align_self": null,
            "border": null,
            "bottom": null,
            "display": null,
            "flex": null,
            "flex_flow": null,
            "grid_area": null,
            "grid_auto_columns": null,
            "grid_auto_flow": null,
            "grid_auto_rows": null,
            "grid_column": null,
            "grid_gap": null,
            "grid_row": null,
            "grid_template_areas": null,
            "grid_template_columns": null,
            "grid_template_rows": null,
            "height": null,
            "justify_content": null,
            "justify_items": null,
            "left": null,
            "margin": null,
            "max_height": null,
            "max_width": null,
            "min_height": null,
            "min_width": null,
            "object_fit": null,
            "object_position": null,
            "order": null,
            "overflow": null,
            "overflow_x": null,
            "overflow_y": null,
            "padding": null,
            "right": null,
            "top": null,
            "visibility": null,
            "width": null
          }
        },
        "36107c7962f748c7aedf81db15947358": {
          "model_module": "@jupyter-widgets/base",
          "model_name": "LayoutModel",
          "model_module_version": "1.2.0",
          "state": {
            "_model_module": "@jupyter-widgets/base",
            "_model_module_version": "1.2.0",
            "_model_name": "LayoutModel",
            "_view_count": null,
            "_view_module": "@jupyter-widgets/base",
            "_view_module_version": "1.2.0",
            "_view_name": "LayoutView",
            "align_content": null,
            "align_items": null,
            "align_self": null,
            "border": null,
            "bottom": null,
            "display": null,
            "flex": null,
            "flex_flow": null,
            "grid_area": null,
            "grid_auto_columns": null,
            "grid_auto_flow": null,
            "grid_auto_rows": null,
            "grid_column": null,
            "grid_gap": null,
            "grid_row": null,
            "grid_template_areas": null,
            "grid_template_columns": null,
            "grid_template_rows": null,
            "height": null,
            "justify_content": null,
            "justify_items": null,
            "left": null,
            "margin": null,
            "max_height": null,
            "max_width": null,
            "min_height": null,
            "min_width": null,
            "object_fit": null,
            "object_position": null,
            "order": null,
            "overflow": null,
            "overflow_x": null,
            "overflow_y": null,
            "padding": null,
            "right": null,
            "top": null,
            "visibility": null,
            "width": null
          }
        },
        "11089d10587f4aef9d05d3891c89c47b": {
          "model_module": "@jupyter-widgets/controls",
          "model_name": "DescriptionStyleModel",
          "model_module_version": "1.5.0",
          "state": {
            "_model_module": "@jupyter-widgets/controls",
            "_model_module_version": "1.5.0",
            "_model_name": "DescriptionStyleModel",
            "_view_count": null,
            "_view_module": "@jupyter-widgets/base",
            "_view_module_version": "1.2.0",
            "_view_name": "StyleView",
            "description_width": ""
          }
        },
        "f03e00a263324b5d8a41c0055795fce8": {
          "model_module": "@jupyter-widgets/base",
          "model_name": "LayoutModel",
          "model_module_version": "1.2.0",
          "state": {
            "_model_module": "@jupyter-widgets/base",
            "_model_module_version": "1.2.0",
            "_model_name": "LayoutModel",
            "_view_count": null,
            "_view_module": "@jupyter-widgets/base",
            "_view_module_version": "1.2.0",
            "_view_name": "LayoutView",
            "align_content": null,
            "align_items": null,
            "align_self": null,
            "border": null,
            "bottom": null,
            "display": null,
            "flex": null,
            "flex_flow": null,
            "grid_area": null,
            "grid_auto_columns": null,
            "grid_auto_flow": null,
            "grid_auto_rows": null,
            "grid_column": null,
            "grid_gap": null,
            "grid_row": null,
            "grid_template_areas": null,
            "grid_template_columns": null,
            "grid_template_rows": null,
            "height": null,
            "justify_content": null,
            "justify_items": null,
            "left": null,
            "margin": null,
            "max_height": null,
            "max_width": null,
            "min_height": null,
            "min_width": null,
            "object_fit": null,
            "object_position": null,
            "order": null,
            "overflow": null,
            "overflow_x": null,
            "overflow_y": null,
            "padding": null,
            "right": null,
            "top": null,
            "visibility": null,
            "width": null
          }
        },
        "7fcc0b6425a74f81a8e4dc994ff73fe7": {
          "model_module": "@jupyter-widgets/controls",
          "model_name": "ProgressStyleModel",
          "model_module_version": "1.5.0",
          "state": {
            "_model_module": "@jupyter-widgets/controls",
            "_model_module_version": "1.5.0",
            "_model_name": "ProgressStyleModel",
            "_view_count": null,
            "_view_module": "@jupyter-widgets/base",
            "_view_module_version": "1.2.0",
            "_view_name": "StyleView",
            "bar_color": null,
            "description_width": ""
          }
        },
        "df48b615e5594345acd9fd8326af4c21": {
          "model_module": "@jupyter-widgets/base",
          "model_name": "LayoutModel",
          "model_module_version": "1.2.0",
          "state": {
            "_model_module": "@jupyter-widgets/base",
            "_model_module_version": "1.2.0",
            "_model_name": "LayoutModel",
            "_view_count": null,
            "_view_module": "@jupyter-widgets/base",
            "_view_module_version": "1.2.0",
            "_view_name": "LayoutView",
            "align_content": null,
            "align_items": null,
            "align_self": null,
            "border": null,
            "bottom": null,
            "display": null,
            "flex": null,
            "flex_flow": null,
            "grid_area": null,
            "grid_auto_columns": null,
            "grid_auto_flow": null,
            "grid_auto_rows": null,
            "grid_column": null,
            "grid_gap": null,
            "grid_row": null,
            "grid_template_areas": null,
            "grid_template_columns": null,
            "grid_template_rows": null,
            "height": null,
            "justify_content": null,
            "justify_items": null,
            "left": null,
            "margin": null,
            "max_height": null,
            "max_width": null,
            "min_height": null,
            "min_width": null,
            "object_fit": null,
            "object_position": null,
            "order": null,
            "overflow": null,
            "overflow_x": null,
            "overflow_y": null,
            "padding": null,
            "right": null,
            "top": null,
            "visibility": null,
            "width": null
          }
        },
        "aa18225a52f445f4a50c31e30e1f0940": {
          "model_module": "@jupyter-widgets/controls",
          "model_name": "DescriptionStyleModel",
          "model_module_version": "1.5.0",
          "state": {
            "_model_module": "@jupyter-widgets/controls",
            "_model_module_version": "1.5.0",
            "_model_name": "DescriptionStyleModel",
            "_view_count": null,
            "_view_module": "@jupyter-widgets/base",
            "_view_module_version": "1.2.0",
            "_view_name": "StyleView",
            "description_width": ""
          }
        },
        "559b3d87b7464c6bb133e9a603a26dde": {
          "model_module": "@jupyter-widgets/controls",
          "model_name": "HBoxModel",
          "model_module_version": "1.5.0",
          "state": {
            "_dom_classes": [],
            "_model_module": "@jupyter-widgets/controls",
            "_model_module_version": "1.5.0",
            "_model_name": "HBoxModel",
            "_view_count": null,
            "_view_module": "@jupyter-widgets/controls",
            "_view_module_version": "1.5.0",
            "_view_name": "HBoxView",
            "box_style": "",
            "children": [
              "IPY_MODEL_0d40ad572c8549e5b5a99f9f10677d14",
              "IPY_MODEL_e61137e718f4469396617268d25f8581",
              "IPY_MODEL_6d129f5a52ce466a9f52853a10af89aa"
            ],
            "layout": "IPY_MODEL_526129e2be7a4dd68a7f1b616c59703a"
          }
        },
        "0d40ad572c8549e5b5a99f9f10677d14": {
          "model_module": "@jupyter-widgets/controls",
          "model_name": "HTMLModel",
          "model_module_version": "1.5.0",
          "state": {
            "_dom_classes": [],
            "_model_module": "@jupyter-widgets/controls",
            "_model_module_version": "1.5.0",
            "_model_name": "HTMLModel",
            "_view_count": null,
            "_view_module": "@jupyter-widgets/controls",
            "_view_module_version": "1.5.0",
            "_view_name": "HTMLView",
            "description": "",
            "description_tooltip": null,
            "layout": "IPY_MODEL_090a68d88729415ebfc1961621c9b7fe",
            "placeholder": "​",
            "style": "IPY_MODEL_8974569888314634837bbaa9ba21381a",
            "value": "Downloading: 100%"
          }
        },
        "e61137e718f4469396617268d25f8581": {
          "model_module": "@jupyter-widgets/controls",
          "model_name": "FloatProgressModel",
          "model_module_version": "1.5.0",
          "state": {
            "_dom_classes": [],
            "_model_module": "@jupyter-widgets/controls",
            "_model_module_version": "1.5.0",
            "_model_name": "FloatProgressModel",
            "_view_count": null,
            "_view_module": "@jupyter-widgets/controls",
            "_view_module_version": "1.5.0",
            "_view_name": "ProgressView",
            "bar_style": "success",
            "description": "",
            "description_tooltip": null,
            "layout": "IPY_MODEL_31f03b8a8f144b76b9d229868ac1a797",
            "max": 608,
            "min": 0,
            "orientation": "horizontal",
            "style": "IPY_MODEL_422947b27dc944bc8e2e326c549d3150",
            "value": 608
          }
        },
        "6d129f5a52ce466a9f52853a10af89aa": {
          "model_module": "@jupyter-widgets/controls",
          "model_name": "HTMLModel",
          "model_module_version": "1.5.0",
          "state": {
            "_dom_classes": [],
            "_model_module": "@jupyter-widgets/controls",
            "_model_module_version": "1.5.0",
            "_model_name": "HTMLModel",
            "_view_count": null,
            "_view_module": "@jupyter-widgets/controls",
            "_view_module_version": "1.5.0",
            "_view_name": "HTMLView",
            "description": "",
            "description_tooltip": null,
            "layout": "IPY_MODEL_4fcdc48ef4e84a8582f267cd0692874e",
            "placeholder": "​",
            "style": "IPY_MODEL_c0ff85acd3e84248b989a33f84dcda1f",
            "value": " 608/608 [00:00&lt;00:00, 14.0kB/s]"
          }
        },
        "526129e2be7a4dd68a7f1b616c59703a": {
          "model_module": "@jupyter-widgets/base",
          "model_name": "LayoutModel",
          "model_module_version": "1.2.0",
          "state": {
            "_model_module": "@jupyter-widgets/base",
            "_model_module_version": "1.2.0",
            "_model_name": "LayoutModel",
            "_view_count": null,
            "_view_module": "@jupyter-widgets/base",
            "_view_module_version": "1.2.0",
            "_view_name": "LayoutView",
            "align_content": null,
            "align_items": null,
            "align_self": null,
            "border": null,
            "bottom": null,
            "display": null,
            "flex": null,
            "flex_flow": null,
            "grid_area": null,
            "grid_auto_columns": null,
            "grid_auto_flow": null,
            "grid_auto_rows": null,
            "grid_column": null,
            "grid_gap": null,
            "grid_row": null,
            "grid_template_areas": null,
            "grid_template_columns": null,
            "grid_template_rows": null,
            "height": null,
            "justify_content": null,
            "justify_items": null,
            "left": null,
            "margin": null,
            "max_height": null,
            "max_width": null,
            "min_height": null,
            "min_width": null,
            "object_fit": null,
            "object_position": null,
            "order": null,
            "overflow": null,
            "overflow_x": null,
            "overflow_y": null,
            "padding": null,
            "right": null,
            "top": null,
            "visibility": null,
            "width": null
          }
        },
        "090a68d88729415ebfc1961621c9b7fe": {
          "model_module": "@jupyter-widgets/base",
          "model_name": "LayoutModel",
          "model_module_version": "1.2.0",
          "state": {
            "_model_module": "@jupyter-widgets/base",
            "_model_module_version": "1.2.0",
            "_model_name": "LayoutModel",
            "_view_count": null,
            "_view_module": "@jupyter-widgets/base",
            "_view_module_version": "1.2.0",
            "_view_name": "LayoutView",
            "align_content": null,
            "align_items": null,
            "align_self": null,
            "border": null,
            "bottom": null,
            "display": null,
            "flex": null,
            "flex_flow": null,
            "grid_area": null,
            "grid_auto_columns": null,
            "grid_auto_flow": null,
            "grid_auto_rows": null,
            "grid_column": null,
            "grid_gap": null,
            "grid_row": null,
            "grid_template_areas": null,
            "grid_template_columns": null,
            "grid_template_rows": null,
            "height": null,
            "justify_content": null,
            "justify_items": null,
            "left": null,
            "margin": null,
            "max_height": null,
            "max_width": null,
            "min_height": null,
            "min_width": null,
            "object_fit": null,
            "object_position": null,
            "order": null,
            "overflow": null,
            "overflow_x": null,
            "overflow_y": null,
            "padding": null,
            "right": null,
            "top": null,
            "visibility": null,
            "width": null
          }
        },
        "8974569888314634837bbaa9ba21381a": {
          "model_module": "@jupyter-widgets/controls",
          "model_name": "DescriptionStyleModel",
          "model_module_version": "1.5.0",
          "state": {
            "_model_module": "@jupyter-widgets/controls",
            "_model_module_version": "1.5.0",
            "_model_name": "DescriptionStyleModel",
            "_view_count": null,
            "_view_module": "@jupyter-widgets/base",
            "_view_module_version": "1.2.0",
            "_view_name": "StyleView",
            "description_width": ""
          }
        },
        "31f03b8a8f144b76b9d229868ac1a797": {
          "model_module": "@jupyter-widgets/base",
          "model_name": "LayoutModel",
          "model_module_version": "1.2.0",
          "state": {
            "_model_module": "@jupyter-widgets/base",
            "_model_module_version": "1.2.0",
            "_model_name": "LayoutModel",
            "_view_count": null,
            "_view_module": "@jupyter-widgets/base",
            "_view_module_version": "1.2.0",
            "_view_name": "LayoutView",
            "align_content": null,
            "align_items": null,
            "align_self": null,
            "border": null,
            "bottom": null,
            "display": null,
            "flex": null,
            "flex_flow": null,
            "grid_area": null,
            "grid_auto_columns": null,
            "grid_auto_flow": null,
            "grid_auto_rows": null,
            "grid_column": null,
            "grid_gap": null,
            "grid_row": null,
            "grid_template_areas": null,
            "grid_template_columns": null,
            "grid_template_rows": null,
            "height": null,
            "justify_content": null,
            "justify_items": null,
            "left": null,
            "margin": null,
            "max_height": null,
            "max_width": null,
            "min_height": null,
            "min_width": null,
            "object_fit": null,
            "object_position": null,
            "order": null,
            "overflow": null,
            "overflow_x": null,
            "overflow_y": null,
            "padding": null,
            "right": null,
            "top": null,
            "visibility": null,
            "width": null
          }
        },
        "422947b27dc944bc8e2e326c549d3150": {
          "model_module": "@jupyter-widgets/controls",
          "model_name": "ProgressStyleModel",
          "model_module_version": "1.5.0",
          "state": {
            "_model_module": "@jupyter-widgets/controls",
            "_model_module_version": "1.5.0",
            "_model_name": "ProgressStyleModel",
            "_view_count": null,
            "_view_module": "@jupyter-widgets/base",
            "_view_module_version": "1.2.0",
            "_view_name": "StyleView",
            "bar_color": null,
            "description_width": ""
          }
        },
        "4fcdc48ef4e84a8582f267cd0692874e": {
          "model_module": "@jupyter-widgets/base",
          "model_name": "LayoutModel",
          "model_module_version": "1.2.0",
          "state": {
            "_model_module": "@jupyter-widgets/base",
            "_model_module_version": "1.2.0",
            "_model_name": "LayoutModel",
            "_view_count": null,
            "_view_module": "@jupyter-widgets/base",
            "_view_module_version": "1.2.0",
            "_view_name": "LayoutView",
            "align_content": null,
            "align_items": null,
            "align_self": null,
            "border": null,
            "bottom": null,
            "display": null,
            "flex": null,
            "flex_flow": null,
            "grid_area": null,
            "grid_auto_columns": null,
            "grid_auto_flow": null,
            "grid_auto_rows": null,
            "grid_column": null,
            "grid_gap": null,
            "grid_row": null,
            "grid_template_areas": null,
            "grid_template_columns": null,
            "grid_template_rows": null,
            "height": null,
            "justify_content": null,
            "justify_items": null,
            "left": null,
            "margin": null,
            "max_height": null,
            "max_width": null,
            "min_height": null,
            "min_width": null,
            "object_fit": null,
            "object_position": null,
            "order": null,
            "overflow": null,
            "overflow_x": null,
            "overflow_y": null,
            "padding": null,
            "right": null,
            "top": null,
            "visibility": null,
            "width": null
          }
        },
        "c0ff85acd3e84248b989a33f84dcda1f": {
          "model_module": "@jupyter-widgets/controls",
          "model_name": "DescriptionStyleModel",
          "model_module_version": "1.5.0",
          "state": {
            "_model_module": "@jupyter-widgets/controls",
            "_model_module_version": "1.5.0",
            "_model_name": "DescriptionStyleModel",
            "_view_count": null,
            "_view_module": "@jupyter-widgets/base",
            "_view_module_version": "1.2.0",
            "_view_name": "StyleView",
            "description_width": ""
          }
        },
        "442a1a241b3f40fd87f5f09dfbc4eff3": {
          "model_module": "@jupyter-widgets/controls",
          "model_name": "HBoxModel",
          "model_module_version": "1.5.0",
          "state": {
            "_dom_classes": [],
            "_model_module": "@jupyter-widgets/controls",
            "_model_module_version": "1.5.0",
            "_model_name": "HBoxModel",
            "_view_count": null,
            "_view_module": "@jupyter-widgets/controls",
            "_view_module_version": "1.5.0",
            "_view_name": "HBoxView",
            "box_style": "",
            "children": [
              "IPY_MODEL_22d590632bbf48b6a5a4c4749b025071",
              "IPY_MODEL_ade975ed77c749f7b9d96cbaaae0352e",
              "IPY_MODEL_e7659428e4ee406aa7a49c16b8103655"
            ],
            "layout": "IPY_MODEL_d68824437aa34bbe854719b0fac659e5"
          }
        },
        "22d590632bbf48b6a5a4c4749b025071": {
          "model_module": "@jupyter-widgets/controls",
          "model_name": "HTMLModel",
          "model_module_version": "1.5.0",
          "state": {
            "_dom_classes": [],
            "_model_module": "@jupyter-widgets/controls",
            "_model_module_version": "1.5.0",
            "_model_name": "HTMLModel",
            "_view_count": null,
            "_view_module": "@jupyter-widgets/controls",
            "_view_module_version": "1.5.0",
            "_view_name": "HTMLView",
            "description": "",
            "description_tooltip": null,
            "layout": "IPY_MODEL_04a6dc9c84b4461b98aa2ba757655ab8",
            "placeholder": "​",
            "style": "IPY_MODEL_39fc8b69e072461aad08fd438e10bb33",
            "value": "Downloading: 100%"
          }
        },
        "ade975ed77c749f7b9d96cbaaae0352e": {
          "model_module": "@jupyter-widgets/controls",
          "model_name": "FloatProgressModel",
          "model_module_version": "1.5.0",
          "state": {
            "_dom_classes": [],
            "_model_module": "@jupyter-widgets/controls",
            "_model_module_version": "1.5.0",
            "_model_name": "FloatProgressModel",
            "_view_count": null,
            "_view_module": "@jupyter-widgets/controls",
            "_view_module_version": "1.5.0",
            "_view_name": "ProgressView",
            "bar_style": "success",
            "description": "",
            "description_tooltip": null,
            "layout": "IPY_MODEL_44fd9af5676343a28a562f338b62c8c8",
            "max": 551290714,
            "min": 0,
            "orientation": "horizontal",
            "style": "IPY_MODEL_6c09318f8c084ba2b98769101e9eb574",
            "value": 551290714
          }
        },
        "e7659428e4ee406aa7a49c16b8103655": {
          "model_module": "@jupyter-widgets/controls",
          "model_name": "HTMLModel",
          "model_module_version": "1.5.0",
          "state": {
            "_dom_classes": [],
            "_model_module": "@jupyter-widgets/controls",
            "_model_module_version": "1.5.0",
            "_model_name": "HTMLModel",
            "_view_count": null,
            "_view_module": "@jupyter-widgets/controls",
            "_view_module_version": "1.5.0",
            "_view_name": "HTMLView",
            "description": "",
            "description_tooltip": null,
            "layout": "IPY_MODEL_3a781ea7ffa1497dad6da2e1721fd776",
            "placeholder": "​",
            "style": "IPY_MODEL_ee1ff64952fe45f282bef53cfccf1ab2",
            "value": " 526M/526M [00:24&lt;00:00, 24.3MB/s]"
          }
        },
        "d68824437aa34bbe854719b0fac659e5": {
          "model_module": "@jupyter-widgets/base",
          "model_name": "LayoutModel",
          "model_module_version": "1.2.0",
          "state": {
            "_model_module": "@jupyter-widgets/base",
            "_model_module_version": "1.2.0",
            "_model_name": "LayoutModel",
            "_view_count": null,
            "_view_module": "@jupyter-widgets/base",
            "_view_module_version": "1.2.0",
            "_view_name": "LayoutView",
            "align_content": null,
            "align_items": null,
            "align_self": null,
            "border": null,
            "bottom": null,
            "display": null,
            "flex": null,
            "flex_flow": null,
            "grid_area": null,
            "grid_auto_columns": null,
            "grid_auto_flow": null,
            "grid_auto_rows": null,
            "grid_column": null,
            "grid_gap": null,
            "grid_row": null,
            "grid_template_areas": null,
            "grid_template_columns": null,
            "grid_template_rows": null,
            "height": null,
            "justify_content": null,
            "justify_items": null,
            "left": null,
            "margin": null,
            "max_height": null,
            "max_width": null,
            "min_height": null,
            "min_width": null,
            "object_fit": null,
            "object_position": null,
            "order": null,
            "overflow": null,
            "overflow_x": null,
            "overflow_y": null,
            "padding": null,
            "right": null,
            "top": null,
            "visibility": null,
            "width": null
          }
        },
        "04a6dc9c84b4461b98aa2ba757655ab8": {
          "model_module": "@jupyter-widgets/base",
          "model_name": "LayoutModel",
          "model_module_version": "1.2.0",
          "state": {
            "_model_module": "@jupyter-widgets/base",
            "_model_module_version": "1.2.0",
            "_model_name": "LayoutModel",
            "_view_count": null,
            "_view_module": "@jupyter-widgets/base",
            "_view_module_version": "1.2.0",
            "_view_name": "LayoutView",
            "align_content": null,
            "align_items": null,
            "align_self": null,
            "border": null,
            "bottom": null,
            "display": null,
            "flex": null,
            "flex_flow": null,
            "grid_area": null,
            "grid_auto_columns": null,
            "grid_auto_flow": null,
            "grid_auto_rows": null,
            "grid_column": null,
            "grid_gap": null,
            "grid_row": null,
            "grid_template_areas": null,
            "grid_template_columns": null,
            "grid_template_rows": null,
            "height": null,
            "justify_content": null,
            "justify_items": null,
            "left": null,
            "margin": null,
            "max_height": null,
            "max_width": null,
            "min_height": null,
            "min_width": null,
            "object_fit": null,
            "object_position": null,
            "order": null,
            "overflow": null,
            "overflow_x": null,
            "overflow_y": null,
            "padding": null,
            "right": null,
            "top": null,
            "visibility": null,
            "width": null
          }
        },
        "39fc8b69e072461aad08fd438e10bb33": {
          "model_module": "@jupyter-widgets/controls",
          "model_name": "DescriptionStyleModel",
          "model_module_version": "1.5.0",
          "state": {
            "_model_module": "@jupyter-widgets/controls",
            "_model_module_version": "1.5.0",
            "_model_name": "DescriptionStyleModel",
            "_view_count": null,
            "_view_module": "@jupyter-widgets/base",
            "_view_module_version": "1.2.0",
            "_view_name": "StyleView",
            "description_width": ""
          }
        },
        "44fd9af5676343a28a562f338b62c8c8": {
          "model_module": "@jupyter-widgets/base",
          "model_name": "LayoutModel",
          "model_module_version": "1.2.0",
          "state": {
            "_model_module": "@jupyter-widgets/base",
            "_model_module_version": "1.2.0",
            "_model_name": "LayoutModel",
            "_view_count": null,
            "_view_module": "@jupyter-widgets/base",
            "_view_module_version": "1.2.0",
            "_view_name": "LayoutView",
            "align_content": null,
            "align_items": null,
            "align_self": null,
            "border": null,
            "bottom": null,
            "display": null,
            "flex": null,
            "flex_flow": null,
            "grid_area": null,
            "grid_auto_columns": null,
            "grid_auto_flow": null,
            "grid_auto_rows": null,
            "grid_column": null,
            "grid_gap": null,
            "grid_row": null,
            "grid_template_areas": null,
            "grid_template_columns": null,
            "grid_template_rows": null,
            "height": null,
            "justify_content": null,
            "justify_items": null,
            "left": null,
            "margin": null,
            "max_height": null,
            "max_width": null,
            "min_height": null,
            "min_width": null,
            "object_fit": null,
            "object_position": null,
            "order": null,
            "overflow": null,
            "overflow_x": null,
            "overflow_y": null,
            "padding": null,
            "right": null,
            "top": null,
            "visibility": null,
            "width": null
          }
        },
        "6c09318f8c084ba2b98769101e9eb574": {
          "model_module": "@jupyter-widgets/controls",
          "model_name": "ProgressStyleModel",
          "model_module_version": "1.5.0",
          "state": {
            "_model_module": "@jupyter-widgets/controls",
            "_model_module_version": "1.5.0",
            "_model_name": "ProgressStyleModel",
            "_view_count": null,
            "_view_module": "@jupyter-widgets/base",
            "_view_module_version": "1.2.0",
            "_view_name": "StyleView",
            "bar_color": null,
            "description_width": ""
          }
        },
        "3a781ea7ffa1497dad6da2e1721fd776": {
          "model_module": "@jupyter-widgets/base",
          "model_name": "LayoutModel",
          "model_module_version": "1.2.0",
          "state": {
            "_model_module": "@jupyter-widgets/base",
            "_model_module_version": "1.2.0",
            "_model_name": "LayoutModel",
            "_view_count": null,
            "_view_module": "@jupyter-widgets/base",
            "_view_module_version": "1.2.0",
            "_view_name": "LayoutView",
            "align_content": null,
            "align_items": null,
            "align_self": null,
            "border": null,
            "bottom": null,
            "display": null,
            "flex": null,
            "flex_flow": null,
            "grid_area": null,
            "grid_auto_columns": null,
            "grid_auto_flow": null,
            "grid_auto_rows": null,
            "grid_column": null,
            "grid_gap": null,
            "grid_row": null,
            "grid_template_areas": null,
            "grid_template_columns": null,
            "grid_template_rows": null,
            "height": null,
            "justify_content": null,
            "justify_items": null,
            "left": null,
            "margin": null,
            "max_height": null,
            "max_width": null,
            "min_height": null,
            "min_width": null,
            "object_fit": null,
            "object_position": null,
            "order": null,
            "overflow": null,
            "overflow_x": null,
            "overflow_y": null,
            "padding": null,
            "right": null,
            "top": null,
            "visibility": null,
            "width": null
          }
        },
        "ee1ff64952fe45f282bef53cfccf1ab2": {
          "model_module": "@jupyter-widgets/controls",
          "model_name": "DescriptionStyleModel",
          "model_module_version": "1.5.0",
          "state": {
            "_model_module": "@jupyter-widgets/controls",
            "_model_module_version": "1.5.0",
            "_model_name": "DescriptionStyleModel",
            "_view_count": null,
            "_view_module": "@jupyter-widgets/base",
            "_view_module_version": "1.2.0",
            "_view_name": "StyleView",
            "description_width": ""
          }
        }
      }
    }
  },
  "nbformat": 4,
  "nbformat_minor": 5
}